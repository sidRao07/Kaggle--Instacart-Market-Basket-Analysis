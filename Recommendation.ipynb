{
  "cells": [
    {
      "metadata": {
        "_uuid": "503cb602ed78e60ed84ed65d0ac59b400195a0dc"
      },
      "cell_type": "markdown",
      "source": "**Recommendation:** In this note book we will use lightGBM, clusters and Apriori to create set of products which can be recommend to the user"
    },
    {
      "metadata": {
        "_uuid": "fe0c74cfa2bd563dd80529c900e6962f3df962f4"
      },
      "cell_type": "markdown",
      "source": "**Loading Libraires**"
    },
    {
      "metadata": {
        "_uuid": "8f2839f25d086af736a60e9eeb907d3b93b6e0e5",
        "_cell_guid": "b1076dfc-b9ad-4769-8c92-a6c4dae69d19",
        "trusted": true
      },
      "cell_type": "code",
      "source": "import numpy as np\nimport pandas as pd\nimport math\nimport lightgbm as lgb\nimport matplotlib.pyplot as plt\nimport operator\nfrom sklearn.model_selection import train_test_split\nfrom sklearn.model_selection import GridSearchCV\n\nimport os\nprint(os.listdir(\"../input\"))\n",
      "execution_count": 1,
      "outputs": [
        {
          "output_type": "stream",
          "text": "['apriori2', 'apriori-segments', 'instacart-market-basket-analysis', 'apriori-seg']\n",
          "name": "stdout"
        }
      ]
    },
    {
      "metadata": {
        "_uuid": "31a80e980dad604455643bc60bbc42312a9f6ccf"
      },
      "cell_type": "markdown",
      "source": "**Loading Input data**"
    },
    {
      "metadata": {
        "trusted": true,
        "_uuid": "9b1acae3e7b876af8365a8745246f8bdb7adc662"
      },
      "cell_type": "code",
      "source": "IDIR = '../input/instacart-market-basket-analysis/'\nprint('loading prior')\npriors = pd.read_csv(IDIR + 'order_products__prior.csv', dtype={\n            'order_id': np.int32,\n            'product_id': np.uint16,\n            'add_to_cart_order': np.int16,\n            'reordered': np.int8})\n\nprint('loading train')\ntrain = pd.read_csv(IDIR + 'order_products__train.csv', dtype={\n            'order_id': np.int32,\n            'product_id': np.uint16,\n            'add_to_cart_order': np.int16,\n            'reordered': np.int8})\n\nprint('loading orders')\norders = pd.read_csv(IDIR + 'orders.csv', dtype={\n        'order_id': np.int32,\n        'user_id': np.int32,\n        'eval_set': 'category',\n        'order_number': np.int16,\n        'order_dow': np.int8,\n        'order_hour_of_day': np.int8,\n        'days_since_prior_order': np.float32})\n\nprint('loading products')\nproducts = pd.read_csv(IDIR + 'products.csv', dtype={\n        'product_id': np.uint16,\n        'order_id': np.int32,\n        'aisle_id': np.uint8,\n        'department_id': np.uint8},\n        usecols=['product_id', 'aisle_id', 'department_id'])\n",
      "execution_count": 2,
      "outputs": [
        {
          "output_type": "stream",
          "text": "loading prior\nloading train\nloading orders\nloading products\n",
          "name": "stdout"
        }
      ]
    },
    {
      "metadata": {
        "trusted": true,
        "_uuid": "544543f2f2184ee01f2cb6e3f8cf8a39fa524887"
      },
      "cell_type": "markdown",
      "source": "**Loading Apriori and cluster data**"
    },
    {
      "metadata": {
        "trusted": true,
        "_uuid": "bd87969b67aa364ef94d2b9e0ef9b6881acbc95c"
      },
      "cell_type": "code",
      "source": "print(os.listdir(\"../input/apriori-segments\"))\napriori = pd.read_csv('../input/apriori-segments/Apriori.csv')\nuser_top5_aisle_product = pd.read_csv('../input/apriori-segments/user_top5_aisle_product.csv')",
      "execution_count": 3,
      "outputs": [
        {
          "output_type": "stream",
          "text": "['Apriori.csv', 'user_top5_aisle_product.csv']\n",
          "name": "stdout"
        }
      ]
    },
    {
      "metadata": {
        "trusted": true,
        "_uuid": "ccf87791152ef9ac135962c7ac551c1be1cc556f"
      },
      "cell_type": "code",
      "source": "apriori.head()",
      "execution_count": 4,
      "outputs": [
        {
          "output_type": "execute_result",
          "execution_count": 4,
          "data": {
            "text/plain": "   Unnamed: 0  item_A    ...      confidenceBtoA       lift\n0           0    1337    ...            0.833333  64.173333\n1           2   16668    ...            0.800000  61.606400\n2         213   22864    ...            1.000000  55.005714\n3         232   21640    ...            1.000000  55.005714\n4         241   16096    ...            1.000000  55.005714\n\n[5 rows x 12 columns]",
            "text/html": "<div>\n<style scoped>\n    .dataframe tbody tr th:only-of-type {\n        vertical-align: middle;\n    }\n\n    .dataframe tbody tr th {\n        vertical-align: top;\n    }\n\n    .dataframe thead th {\n        text-align: right;\n    }\n</style>\n<table border=\"1\" class=\"dataframe\">\n  <thead>\n    <tr style=\"text-align: right;\">\n      <th></th>\n      <th>Unnamed: 0</th>\n      <th>item_A</th>\n      <th>item_B</th>\n      <th>freqAB</th>\n      <th>supportAB</th>\n      <th>freqA</th>\n      <th>supportA</th>\n      <th>freqB</th>\n      <th>supportB</th>\n      <th>confidenceAtoB</th>\n      <th>confidenceBtoA</th>\n      <th>lift</th>\n    </tr>\n  </thead>\n  <tbody>\n    <tr>\n      <th>0</th>\n      <td>0</td>\n      <td>1337</td>\n      <td>7922</td>\n      <td>5</td>\n      <td>0.012986</td>\n      <td>5</td>\n      <td>0.012986</td>\n      <td>6</td>\n      <td>0.015583</td>\n      <td>1.000000</td>\n      <td>0.833333</td>\n      <td>64.173333</td>\n    </tr>\n    <tr>\n      <th>1</th>\n      <td>2</td>\n      <td>16668</td>\n      <td>19064</td>\n      <td>4</td>\n      <td>0.010389</td>\n      <td>5</td>\n      <td>0.012986</td>\n      <td>5</td>\n      <td>0.012986</td>\n      <td>0.800000</td>\n      <td>0.800000</td>\n      <td>61.606400</td>\n    </tr>\n    <tr>\n      <th>2</th>\n      <td>213</td>\n      <td>22864</td>\n      <td>3567</td>\n      <td>6</td>\n      <td>0.015583</td>\n      <td>7</td>\n      <td>0.018180</td>\n      <td>6</td>\n      <td>0.015583</td>\n      <td>0.857143</td>\n      <td>1.000000</td>\n      <td>55.005714</td>\n    </tr>\n    <tr>\n      <th>3</th>\n      <td>232</td>\n      <td>21640</td>\n      <td>20739</td>\n      <td>6</td>\n      <td>0.015583</td>\n      <td>7</td>\n      <td>0.018180</td>\n      <td>6</td>\n      <td>0.015583</td>\n      <td>0.857143</td>\n      <td>1.000000</td>\n      <td>55.005714</td>\n    </tr>\n    <tr>\n      <th>4</th>\n      <td>241</td>\n      <td>16096</td>\n      <td>42305</td>\n      <td>5</td>\n      <td>0.012986</td>\n      <td>7</td>\n      <td>0.018180</td>\n      <td>5</td>\n      <td>0.012986</td>\n      <td>0.714286</td>\n      <td>1.000000</td>\n      <td>55.005714</td>\n    </tr>\n  </tbody>\n</table>\n</div>"
          },
          "metadata": {}
        }
      ]
    },
    {
      "metadata": {
        "trusted": true,
        "_uuid": "718ee52d5d4e022d1dd44ae34647f8fb3172f25f"
      },
      "cell_type": "code",
      "source": "user_top5_aisle_product.head()",
      "execution_count": 5,
      "outputs": [
        {
          "output_type": "execute_result",
          "execution_count": 5,
          "data": {
            "text/plain": "   Unnamed: 0                        ...                                                                   product5\n0           0                        ...                                                Organic Whole String Cheese\n1           1                        ...                                                Organic Whole String Cheese\n2           2                        ...                                                Organic Whole String Cheese\n3           3                        ...                                                Organic Whole String Cheese\n4           4                        ...                          Total 2% with Strawberry Lowfat Greek Strained...\n\n[5 rows x 13 columns]",
            "text/html": "<div>\n<style scoped>\n    .dataframe tbody tr th:only-of-type {\n        vertical-align: middle;\n    }\n\n    .dataframe tbody tr th {\n        vertical-align: top;\n    }\n\n    .dataframe thead th {\n        text-align: right;\n    }\n</style>\n<table border=\"1\" class=\"dataframe\">\n  <thead>\n    <tr style=\"text-align: right;\">\n      <th></th>\n      <th>Unnamed: 0</th>\n      <th>user_id</th>\n      <th>cluster</th>\n      <th>aisle1</th>\n      <th>product1</th>\n      <th>aisle2</th>\n      <th>product2</th>\n      <th>aisle3</th>\n      <th>product3</th>\n      <th>aisle4</th>\n      <th>product4</th>\n      <th>aisle5</th>\n      <th>product5</th>\n    </tr>\n  </thead>\n  <tbody>\n    <tr>\n      <th>0</th>\n      <td>0</td>\n      <td>284</td>\n      <td>0</td>\n      <td>fresh fruits</td>\n      <td>Banana</td>\n      <td>fresh vegetables</td>\n      <td>Organic Yellow Onion</td>\n      <td>yogurt</td>\n      <td>Total 2% with Strawberry Lowfat Greek Strained...</td>\n      <td>packaged vegetables fruits</td>\n      <td>Organic Baby Spinach</td>\n      <td>packaged cheese</td>\n      <td>Organic Whole String Cheese</td>\n    </tr>\n    <tr>\n      <th>1</th>\n      <td>1</td>\n      <td>293</td>\n      <td>0</td>\n      <td>fresh fruits</td>\n      <td>Banana</td>\n      <td>fresh vegetables</td>\n      <td>Organic Yellow Onion</td>\n      <td>yogurt</td>\n      <td>Total 2% with Strawberry Lowfat Greek Strained...</td>\n      <td>packaged vegetables fruits</td>\n      <td>Organic Baby Spinach</td>\n      <td>packaged cheese</td>\n      <td>Organic Whole String Cheese</td>\n    </tr>\n    <tr>\n      <th>2</th>\n      <td>2</td>\n      <td>319</td>\n      <td>0</td>\n      <td>fresh fruits</td>\n      <td>Banana</td>\n      <td>fresh vegetables</td>\n      <td>Organic Yellow Onion</td>\n      <td>yogurt</td>\n      <td>Total 2% with Strawberry Lowfat Greek Strained...</td>\n      <td>packaged vegetables fruits</td>\n      <td>Organic Baby Spinach</td>\n      <td>packaged cheese</td>\n      <td>Organic Whole String Cheese</td>\n    </tr>\n    <tr>\n      <th>3</th>\n      <td>3</td>\n      <td>358</td>\n      <td>0</td>\n      <td>fresh fruits</td>\n      <td>Banana</td>\n      <td>fresh vegetables</td>\n      <td>Organic Yellow Onion</td>\n      <td>yogurt</td>\n      <td>Total 2% with Strawberry Lowfat Greek Strained...</td>\n      <td>packaged vegetables fruits</td>\n      <td>Organic Baby Spinach</td>\n      <td>packaged cheese</td>\n      <td>Organic Whole String Cheese</td>\n    </tr>\n    <tr>\n      <th>4</th>\n      <td>4</td>\n      <td>432</td>\n      <td>1</td>\n      <td>fresh vegetables</td>\n      <td>Organic Yellow Onion</td>\n      <td>fresh fruits</td>\n      <td>Banana</td>\n      <td>packaged vegetables fruits</td>\n      <td>Organic Baby Spinach</td>\n      <td>packaged cheese</td>\n      <td>Organic Whole String Cheese</td>\n      <td>yogurt</td>\n      <td>Total 2% with Strawberry Lowfat Greek Strained...</td>\n    </tr>\n  </tbody>\n</table>\n</div>"
          },
          "metadata": {}
        }
      ]
    },
    {
      "metadata": {
        "trusted": true,
        "_uuid": "416ce12509d73be6e821ba0b0142ac6c2667ebac"
      },
      "cell_type": "code",
      "source": "#Creating orders list for 2500 users\nordersTrain=orders[orders['eval_set']=='train']\nprint(len(ordersTrain))\ntrain_usr = pd.DataFrame(ordersTrain['user_id'].unique(), columns =['user_id'])\ntrain_usr_sample =  train_usr.sample(2500, random_state=42).sort_values('user_id').reset_index(drop = True)\ntrain_usr_sample.shape",
      "execution_count": 6,
      "outputs": [
        {
          "output_type": "stream",
          "text": "131209\n",
          "name": "stdout"
        },
        {
          "output_type": "execute_result",
          "execution_count": 6,
          "data": {
            "text/plain": "(2500, 1)"
          },
          "metadata": {}
        }
      ]
    },
    {
      "metadata": {
        "_uuid": "a871adfdb11a84053e16f334194105b98968d4e4"
      },
      "cell_type": "markdown",
      "source": "**Creating Product level features**"
    },
    {
      "metadata": {
        "trusted": true,
        "_uuid": "cd2dc98f97121316a00ea8bb5c46ad7519f90041"
      },
      "cell_type": "code",
      "source": "prods = pd.DataFrame()\nprods['orders'] = priors.groupby(priors.product_id).size().astype(np.int32)\nprods['reorders'] = priors['reordered'].groupby(priors.product_id).sum().astype(np.float32)\nprods['reorder_rate'] = (prods.reorders / prods.orders).astype(np.float32)\nproducts = products.join(prods, on='product_id')\nproducts.set_index('product_id', drop=False, inplace=True)\ndel prods",
      "execution_count": 7,
      "outputs": []
    },
    {
      "metadata": {
        "trusted": true,
        "_uuid": "640e00c29f81b0b5509e2fca39004a3c3ac9988a"
      },
      "cell_type": "code",
      "source": "print('add order info to priors')\norders.set_index('order_id', inplace=True, drop=False)\npriors = priors.join(orders, on='order_id', rsuffix='_')\npriors.drop('order_id_', inplace=True, axis=1)\nproducts.head()",
      "execution_count": 8,
      "outputs": [
        {
          "output_type": "stream",
          "text": "add order info to priors\n",
          "name": "stdout"
        },
        {
          "output_type": "execute_result",
          "execution_count": 8,
          "data": {
            "text/plain": "            product_id  aisle_id      ...       reorders  reorder_rate\nproduct_id                            ...                             \n1                    1        61      ...         1136.0      0.613391\n2                    2       104      ...           12.0      0.133333\n3                    3        94      ...          203.0      0.732852\n4                    4        38      ...          147.0      0.446809\n5                    5         5      ...            9.0      0.600000\n\n[5 rows x 6 columns]",
            "text/html": "<div>\n<style scoped>\n    .dataframe tbody tr th:only-of-type {\n        vertical-align: middle;\n    }\n\n    .dataframe tbody tr th {\n        vertical-align: top;\n    }\n\n    .dataframe thead th {\n        text-align: right;\n    }\n</style>\n<table border=\"1\" class=\"dataframe\">\n  <thead>\n    <tr style=\"text-align: right;\">\n      <th></th>\n      <th>product_id</th>\n      <th>aisle_id</th>\n      <th>department_id</th>\n      <th>orders</th>\n      <th>reorders</th>\n      <th>reorder_rate</th>\n    </tr>\n    <tr>\n      <th>product_id</th>\n      <th></th>\n      <th></th>\n      <th></th>\n      <th></th>\n      <th></th>\n      <th></th>\n    </tr>\n  </thead>\n  <tbody>\n    <tr>\n      <th>1</th>\n      <td>1</td>\n      <td>61</td>\n      <td>19</td>\n      <td>1852.0</td>\n      <td>1136.0</td>\n      <td>0.613391</td>\n    </tr>\n    <tr>\n      <th>2</th>\n      <td>2</td>\n      <td>104</td>\n      <td>13</td>\n      <td>90.0</td>\n      <td>12.0</td>\n      <td>0.133333</td>\n    </tr>\n    <tr>\n      <th>3</th>\n      <td>3</td>\n      <td>94</td>\n      <td>7</td>\n      <td>277.0</td>\n      <td>203.0</td>\n      <td>0.732852</td>\n    </tr>\n    <tr>\n      <th>4</th>\n      <td>4</td>\n      <td>38</td>\n      <td>1</td>\n      <td>329.0</td>\n      <td>147.0</td>\n      <td>0.446809</td>\n    </tr>\n    <tr>\n      <th>5</th>\n      <td>5</td>\n      <td>5</td>\n      <td>13</td>\n      <td>15.0</td>\n      <td>9.0</td>\n      <td>0.600000</td>\n    </tr>\n  </tbody>\n</table>\n</div>"
          },
          "metadata": {}
        }
      ]
    },
    {
      "metadata": {
        "_uuid": "9e1d0ee9689b642fa9253fb520b6d34ab80875ef"
      },
      "cell_type": "markdown",
      "source": "**Creating user level features**"
    },
    {
      "metadata": {
        "trusted": true,
        "_uuid": "42f65b7be3e98dfe91ecf1586add7ffe0cc985b5"
      },
      "cell_type": "code",
      "source": "\nusr = pd.DataFrame()\nusr['average_days_between_orders'] = orders.groupby('user_id')['days_since_prior_order'].mean().astype(np.float32)\nusr['nb_orders'] = orders.groupby('user_id').size().astype(np.int16)",
      "execution_count": 9,
      "outputs": []
    },
    {
      "metadata": {
        "trusted": true,
        "_uuid": "65a37a731f570c71c4851453c9c5ba2e8eb3fe7f"
      },
      "cell_type": "code",
      "source": "users = pd.DataFrame()\nusers['total_items'] = priors.groupby('user_id').size().astype(np.int16)\nusers['all_products'] = priors.groupby('user_id')['product_id'].apply(set)\nusers['total_distinct_items'] = (users.all_products.map(len)).astype(np.int16)\nusers['user_max_order_num'] =  priors.groupby('user_id')['order_number'].max().astype(np.int16)\nusers['total_buy_max'] =  priors.groupby(['user_id','product_id'])['product_id'].count().reset_index(level = 'user_id').reset_index(drop = True).groupby('user_id').max().astype(np.int16)\nusers = users.join(usr) \ndel usr\nusers['average_basket'] = (users.total_items / users.nb_orders).astype(np.float32)\nusers.head()",
      "execution_count": 10,
      "outputs": [
        {
          "output_type": "execute_result",
          "execution_count": 10,
          "data": {
            "text/plain": "         total_items      ...       average_basket\nuser_id                   ...                     \n1                 59      ...             5.363636\n2                195      ...            13.000000\n3                 88      ...             6.769231\n4                 18      ...             3.000000\n5                 37      ...             7.400000\n\n[5 rows x 8 columns]",
            "text/html": "<div>\n<style scoped>\n    .dataframe tbody tr th:only-of-type {\n        vertical-align: middle;\n    }\n\n    .dataframe tbody tr th {\n        vertical-align: top;\n    }\n\n    .dataframe thead th {\n        text-align: right;\n    }\n</style>\n<table border=\"1\" class=\"dataframe\">\n  <thead>\n    <tr style=\"text-align: right;\">\n      <th></th>\n      <th>total_items</th>\n      <th>all_products</th>\n      <th>total_distinct_items</th>\n      <th>user_max_order_num</th>\n      <th>total_buy_max</th>\n      <th>average_days_between_orders</th>\n      <th>nb_orders</th>\n      <th>average_basket</th>\n    </tr>\n    <tr>\n      <th>user_id</th>\n      <th></th>\n      <th></th>\n      <th></th>\n      <th></th>\n      <th></th>\n      <th></th>\n      <th></th>\n      <th></th>\n    </tr>\n  </thead>\n  <tbody>\n    <tr>\n      <th>1</th>\n      <td>59</td>\n      <td>{17122, 196, 26405, 46149, 14084, 13032, 26088...</td>\n      <td>18</td>\n      <td>10</td>\n      <td>10</td>\n      <td>19.000000</td>\n      <td>11</td>\n      <td>5.363636</td>\n    </tr>\n    <tr>\n      <th>2</th>\n      <td>195</td>\n      <td>{45066, 2573, 18961, 23, 32792, 1559, 22559, 1...</td>\n      <td>102</td>\n      <td>14</td>\n      <td>9</td>\n      <td>16.285715</td>\n      <td>15</td>\n      <td>13.000000</td>\n    </tr>\n    <tr>\n      <th>3</th>\n      <td>88</td>\n      <td>{17668, 44683, 48523, 21903, 14992, 21137, 324...</td>\n      <td>33</td>\n      <td>12</td>\n      <td>10</td>\n      <td>12.000000</td>\n      <td>13</td>\n      <td>6.769231</td>\n    </tr>\n    <tr>\n      <th>4</th>\n      <td>18</td>\n      <td>{21573, 42329, 17769, 35469, 37646, 1200, 1905...</td>\n      <td>17</td>\n      <td>5</td>\n      <td>2</td>\n      <td>17.000000</td>\n      <td>6</td>\n      <td>3.000000</td>\n    </tr>\n    <tr>\n      <th>5</th>\n      <td>37</td>\n      <td>{11777, 40706, 28289, 48775, 20754, 6808, 1398...</td>\n      <td>23</td>\n      <td>4</td>\n      <td>4</td>\n      <td>11.500000</td>\n      <td>5</td>\n      <td>7.400000</td>\n    </tr>\n  </tbody>\n</table>\n</div>"
          },
          "metadata": {}
        }
      ]
    },
    {
      "metadata": {
        "_uuid": "c066f8d36eec0c1a6622e062cdc581b723a7aea3"
      },
      "cell_type": "markdown",
      "source": "**Creating user product level features**"
    },
    {
      "metadata": {
        "trusted": true,
        "_uuid": "75b4962c348f1cba8e84390a976fe17add35d846"
      },
      "cell_type": "code",
      "source": "priors['user_product'] = priors.product_id + priors.user_id * 100000",
      "execution_count": 11,
      "outputs": []
    },
    {
      "metadata": {
        "trusted": true,
        "_uuid": "ad2bace8251c2e8ca578859df168851dae1dd2ab"
      },
      "cell_type": "code",
      "source": "d= dict()\nfor row in priors.itertuples():\n    z = row.user_product\n    if z not in d:\n        d[z] = (1,\n                (row.order_number, row.order_id),\n                (row.order_number, row.order_id),\n                row.add_to_cart_order)\n    else:\n        d[z] = (d[z][0] + 1,\n                max(d[z][1], (row.order_number, row.order_id)),\n                min(d[z][2], (row.order_number, row.order_id)),\n                d[z][3] + row.add_to_cart_order)",
      "execution_count": 12,
      "outputs": []
    },
    {
      "metadata": {
        "trusted": true,
        "_uuid": "4c4a6a60e6cc57dee80c06d691b16229467b140e"
      },
      "cell_type": "code",
      "source": "userXproduct = pd.DataFrame.from_dict(d, orient='index')\ndel d",
      "execution_count": 13,
      "outputs": []
    },
    {
      "metadata": {
        "trusted": true,
        "_uuid": "b29250f1bf2a676f4283484f402251f8b49dcedb"
      },
      "cell_type": "code",
      "source": "userXproduct.columns = ['nb_orders', 'last_order_id','first_order_number', 'sum_pos_in_cart']\nuserXproduct.nb_orders = userXproduct.nb_orders.astype(np.int16)\nuserXproduct.last_order_id = userXproduct.last_order_id.map(lambda x: x[1]).astype(np.int32)\nuserXproduct.first_order_number = userXproduct.first_order_number.map(lambda x: x[0]).astype(np.int16)\nuserXproduct.sum_pos_in_cart = userXproduct.sum_pos_in_cart.astype(np.int16)\nprint('user X product f', len(userXproduct))\ndel priors\nuserXproduct.head()",
      "execution_count": 14,
      "outputs": [
        {
          "output_type": "stream",
          "text": "user X product f 13307953\n",
          "name": "stdout"
        },
        {
          "output_type": "execute_result",
          "execution_count": 14,
          "data": {
            "text/plain": "             nb_orders       ...         sum_pos_in_cart\n20227933120          5       ...                      10\n20227928985          5       ...                      16\n20227909327          1       ...                       3\n20227945918          5       ...                      24\n20227930035          3       ...                      14\n\n[5 rows x 4 columns]",
            "text/html": "<div>\n<style scoped>\n    .dataframe tbody tr th:only-of-type {\n        vertical-align: middle;\n    }\n\n    .dataframe tbody tr th {\n        vertical-align: top;\n    }\n\n    .dataframe thead th {\n        text-align: right;\n    }\n</style>\n<table border=\"1\" class=\"dataframe\">\n  <thead>\n    <tr style=\"text-align: right;\">\n      <th></th>\n      <th>nb_orders</th>\n      <th>last_order_id</th>\n      <th>first_order_number</th>\n      <th>sum_pos_in_cart</th>\n    </tr>\n  </thead>\n  <tbody>\n    <tr>\n      <th>20227933120</th>\n      <td>5</td>\n      <td>104690</td>\n      <td>1</td>\n      <td>10</td>\n    </tr>\n    <tr>\n      <th>20227928985</th>\n      <td>5</td>\n      <td>132412</td>\n      <td>1</td>\n      <td>16</td>\n    </tr>\n    <tr>\n      <th>20227909327</th>\n      <td>1</td>\n      <td>2</td>\n      <td>3</td>\n      <td>3</td>\n    </tr>\n    <tr>\n      <th>20227945918</th>\n      <td>5</td>\n      <td>2382766</td>\n      <td>2</td>\n      <td>24</td>\n    </tr>\n    <tr>\n      <th>20227930035</th>\n      <td>3</td>\n      <td>2382766</td>\n      <td>3</td>\n      <td>14</td>\n    </tr>\n  </tbody>\n</table>\n</div>"
          },
          "metadata": {}
        }
      ]
    },
    {
      "metadata": {
        "trusted": true,
        "_uuid": "df18ea9bc8100ef77ce443685ee2220a0b325157"
      },
      "cell_type": "markdown",
      "source": "![](http://)**Spliting data for 2500 users**"
    },
    {
      "metadata": {
        "trusted": true,
        "_uuid": "79140b7affd6dc6637dca4f03052589a962ea406"
      },
      "cell_type": "code",
      "source": "train_orders = orders[orders.eval_set == 'train']\ntrain_orders_train = train_orders[~train_orders.user_id.isin(train_usr_sample['user_id'])]\ntrain_orders_cv = train_orders[train_orders.user_id.isin(train_usr_sample['user_id'])]\ntrain_orders_product  = train_orders_cv.merge(train, how = 'inner', left_on = 'order_id', right_on = 'order_id')",
      "execution_count": 15,
      "outputs": [
        {
          "output_type": "stream",
          "text": "/opt/conda/lib/python3.6/site-packages/ipykernel_launcher.py:4: FutureWarning: 'order_id' is both an index level and a column label.\nDefaulting to column, but this will raise an ambiguity error in a future version\n  after removing the cwd from sys.path.\n",
          "name": "stderr"
        }
      ]
    },
    {
      "metadata": {
        "trusted": true,
        "_uuid": "ca8ac56c419f84b963b97baa7c83b087659fb112"
      },
      "cell_type": "code",
      "source": "train_orders_product.head()",
      "execution_count": 16,
      "outputs": [
        {
          "output_type": "execute_result",
          "execution_count": 16,
          "data": {
            "text/plain": "   order_id  user_id    ...     add_to_cart_order  reordered\n0   3261724      284    ...                     1          1\n1   3261724      284    ...                     2          1\n2   3261724      284    ...                     3          1\n3   3261724      284    ...                     4          1\n4   3261724      284    ...                     5          1\n\n[5 rows x 10 columns]",
            "text/html": "<div>\n<style scoped>\n    .dataframe tbody tr th:only-of-type {\n        vertical-align: middle;\n    }\n\n    .dataframe tbody tr th {\n        vertical-align: top;\n    }\n\n    .dataframe thead th {\n        text-align: right;\n    }\n</style>\n<table border=\"1\" class=\"dataframe\">\n  <thead>\n    <tr style=\"text-align: right;\">\n      <th></th>\n      <th>order_id</th>\n      <th>user_id</th>\n      <th>eval_set</th>\n      <th>order_number</th>\n      <th>order_dow</th>\n      <th>order_hour_of_day</th>\n      <th>days_since_prior_order</th>\n      <th>product_id</th>\n      <th>add_to_cart_order</th>\n      <th>reordered</th>\n    </tr>\n  </thead>\n  <tbody>\n    <tr>\n      <th>0</th>\n      <td>3261724</td>\n      <td>284</td>\n      <td>train</td>\n      <td>17</td>\n      <td>2</td>\n      <td>11</td>\n      <td>13.0</td>\n      <td>49235</td>\n      <td>1</td>\n      <td>1</td>\n    </tr>\n    <tr>\n      <th>1</th>\n      <td>3261724</td>\n      <td>284</td>\n      <td>train</td>\n      <td>17</td>\n      <td>2</td>\n      <td>11</td>\n      <td>13.0</td>\n      <td>35951</td>\n      <td>2</td>\n      <td>1</td>\n    </tr>\n    <tr>\n      <th>2</th>\n      <td>3261724</td>\n      <td>284</td>\n      <td>train</td>\n      <td>17</td>\n      <td>2</td>\n      <td>11</td>\n      <td>13.0</td>\n      <td>32579</td>\n      <td>3</td>\n      <td>1</td>\n    </tr>\n    <tr>\n      <th>3</th>\n      <td>3261724</td>\n      <td>284</td>\n      <td>train</td>\n      <td>17</td>\n      <td>2</td>\n      <td>11</td>\n      <td>13.0</td>\n      <td>30066</td>\n      <td>4</td>\n      <td>1</td>\n    </tr>\n    <tr>\n      <th>4</th>\n      <td>3261724</td>\n      <td>284</td>\n      <td>train</td>\n      <td>17</td>\n      <td>2</td>\n      <td>11</td>\n      <td>13.0</td>\n      <td>25659</td>\n      <td>5</td>\n      <td>1</td>\n    </tr>\n  </tbody>\n</table>\n</div>"
          },
          "metadata": {}
        }
      ]
    },
    {
      "metadata": {
        "trusted": true,
        "_uuid": "3700b529a84e84391673fe8dd68b3b0a3000a525"
      },
      "cell_type": "code",
      "source": "train.set_index(['order_id', 'product_id'], inplace=True, drop=False)",
      "execution_count": 17,
      "outputs": []
    },
    {
      "metadata": {
        "_uuid": "a3d77c9967706b143b45c3d84917a5574b7ef4b5"
      },
      "cell_type": "markdown",
      "source": "**Defining a function to combine all the features **"
    },
    {
      "metadata": {
        "trusted": true,
        "_uuid": "0ab3eadc8b51870ff68c768e6a43cd82db17ba5c"
      },
      "cell_type": "code",
      "source": "def features(selected_orders, labels_given=False):\n    print('build candidate list')\n    order_list = []\n    product_list = []\n    labels = []\n    i=0\n    for row in selected_orders.itertuples():\n        i+=1\n        if i%10000 == 0: print('order row',i)\n        order_id = row.order_id\n        user_id = row.user_id\n        user_products = users.all_products[user_id]\n        product_list += user_products\n        order_list += [order_id] * len(user_products)\n        if labels_given:\n            labels += [(order_id, product) in train.index for product in user_products]\n        \n    df = pd.DataFrame({'order_id':order_list, 'product_id':product_list}, dtype=np.int32)\n    labels = np.array(labels, dtype=np.int8)\n    del order_list\n    del product_list\n    \n    print('user related features')\n    df['user_id'] = df.order_id.map(orders.user_id)\n    df['user_total_orders'] = df.user_id.map(users.nb_orders)\n    df['user_total_items'] = df.user_id.map(users.total_items)\n    df['total_distinct_items'] = df.user_id.map(users.total_distinct_items)\n    df['user_average_days_between_orders'] = df.user_id.map(users.average_days_between_orders)\n    df['user_average_basket'] =  df.user_id.map(users.average_basket)\n    df['user_total_buy_max'] = df.user_id.map(users.total_buy_max).astype(np.int16)\n    \n    print('order related features')\n    df['order_dow'] = df.order_id.map(orders.order_dow)\n    df['order_hour_of_day'] = df.order_id.map(orders.order_hour_of_day)\n    df['days_since_prior_order'] = df.order_id.map(orders.days_since_prior_order)\n    df['days_since_ratio'] = (df.days_since_prior_order / df.user_average_days_between_orders).map(lambda x: 0 if math.isnan(x) else x).astype(np.float32)\n    \n    print('product related features')\n    df['aisle_id'] = df.product_id.map(products.aisle_id)\n    df['department_id'] = df.product_id.map(products.department_id)\n    df['product_orders'] = df.product_id.map(products.orders).astype(np.int32)\n    df['product_reorders'] = df.product_id.map(products.reorders)\n    df['product_reorder_rate'] = df.product_id.map(products.reorder_rate).astype(np.float32)\n\n    print('user_X_product related features')\n    df['z'] = df.user_id * 100000 + df.product_id\n    #df.drop(['user_id'], axis=1, inplace=True)\n    df['UP_orders'] = df.z.map(userXproduct.nb_orders)\n    df['UP_orders_ratio'] = (df.UP_orders / df.user_total_orders).astype(np.float32)\n    df['UP_last_order_id'] = df.z.map(userXproduct.last_order_id)\n    df['UP_average_pos_in_cart'] = (df.z.map(userXproduct.sum_pos_in_cart) / df.UP_orders).astype(np.float32)\n    df['UP_reorder_rate'] = ((df.UP_orders-1) / (df.user_total_orders-1).astype(np.float32))\n    df['UP_orders_since_last'] = df.user_total_orders - df.UP_last_order_id.map(orders.order_number)\n    df['UP_delta_hour_vs_last'] = abs(df.order_hour_of_day - df.UP_last_order_id.map(orders.order_hour_of_day)).map(lambda x: min(x, 24-x)).astype(np.int8)\n    df['UP_delta_dow_vs_last'] = abs(df.order_dow - df.UP_last_order_id.map(orders.order_dow)).map(lambda x: min(x, 7-x)).astype(np.int8)\n    df['UP_drop_chance'] = (df.user_total_orders - df.UP_last_order_id.map(orders.order_number)).astype(np.float)\n    df['UP_chance_vs_bought'] = (df.user_total_orders - df.z.map(userXproduct.first_order_number)).astype(np.float32)\n    df['UP_chance'] = (df.UP_orders - 1)/(df.user_total_orders - df.z.map(userXproduct.first_order_number)).astype(np.float32)\n    df['UP_chance_ratio'] = (1/(df.user_total_orders - df.UP_last_order_id.map(orders.order_number)) - (df.UP_orders - 1)/(df.user_total_orders - df.z.map(userXproduct.first_order_number))).astype(np.float32)\n    df.drop(['UP_last_order_id','z'], axis=1, inplace=True)\n    #df.drop(['order_id','product_id'], axis=1)\n    print(df.dtypes)\n    print(df.memory_usage())\n    return (df, labels)",
      "execution_count": 18,
      "outputs": []
    },
    {
      "metadata": {
        "_uuid": "90885d9217f86bdd7ab961cdc0871510c6c0c756"
      },
      "cell_type": "markdown",
      "source": "**Getting all the features**"
    },
    {
      "metadata": {
        "trusted": true,
        "_uuid": "1e099e370608ab3bb6f4e63fb794647b7d1e620e"
      },
      "cell_type": "code",
      "source": "train_orders_train = train_orders[~train_orders.user_id.isin(train_usr_sample['user_id'])]\ntrain_orders_cv = train_orders[train_orders.user_id.isin(train_usr_sample['user_id'])]",
      "execution_count": 19,
      "outputs": []
    },
    {
      "metadata": {
        "trusted": true,
        "_uuid": "3aac4934dc59927afda6f5e834fecfdec01831f3"
      },
      "cell_type": "code",
      "source": "train_orders_cv.head()",
      "execution_count": 20,
      "outputs": [
        {
          "output_type": "execute_result",
          "execution_count": 20,
          "data": {
            "text/plain": "          order_id           ...            days_since_prior_order\norder_id                     ...                                  \n3261724    3261724           ...                              13.0\n2692535    2692535           ...                              30.0\n1054904    1054904           ...                               2.0\n394279      394279           ...                              30.0\n488785      488785           ...                               7.0\n\n[5 rows x 7 columns]",
            "text/html": "<div>\n<style scoped>\n    .dataframe tbody tr th:only-of-type {\n        vertical-align: middle;\n    }\n\n    .dataframe tbody tr th {\n        vertical-align: top;\n    }\n\n    .dataframe thead th {\n        text-align: right;\n    }\n</style>\n<table border=\"1\" class=\"dataframe\">\n  <thead>\n    <tr style=\"text-align: right;\">\n      <th></th>\n      <th>order_id</th>\n      <th>user_id</th>\n      <th>eval_set</th>\n      <th>order_number</th>\n      <th>order_dow</th>\n      <th>order_hour_of_day</th>\n      <th>days_since_prior_order</th>\n    </tr>\n    <tr>\n      <th>order_id</th>\n      <th></th>\n      <th></th>\n      <th></th>\n      <th></th>\n      <th></th>\n      <th></th>\n      <th></th>\n    </tr>\n  </thead>\n  <tbody>\n    <tr>\n      <th>3261724</th>\n      <td>3261724</td>\n      <td>284</td>\n      <td>train</td>\n      <td>17</td>\n      <td>2</td>\n      <td>11</td>\n      <td>13.0</td>\n    </tr>\n    <tr>\n      <th>2692535</th>\n      <td>2692535</td>\n      <td>293</td>\n      <td>train</td>\n      <td>9</td>\n      <td>1</td>\n      <td>16</td>\n      <td>30.0</td>\n    </tr>\n    <tr>\n      <th>1054904</th>\n      <td>1054904</td>\n      <td>319</td>\n      <td>train</td>\n      <td>9</td>\n      <td>0</td>\n      <td>18</td>\n      <td>2.0</td>\n    </tr>\n    <tr>\n      <th>394279</th>\n      <td>394279</td>\n      <td>358</td>\n      <td>train</td>\n      <td>8</td>\n      <td>1</td>\n      <td>17</td>\n      <td>30.0</td>\n    </tr>\n    <tr>\n      <th>488785</th>\n      <td>488785</td>\n      <td>432</td>\n      <td>train</td>\n      <td>53</td>\n      <td>0</td>\n      <td>19</td>\n      <td>7.0</td>\n    </tr>\n  </tbody>\n</table>\n</div>"
          },
          "metadata": {}
        }
      ]
    },
    {
      "metadata": {
        "trusted": true,
        "_uuid": "deb3e65bc1cc88c9124a45d77ca6273007c4e12b"
      },
      "cell_type": "code",
      "source": "df_train, labels_train = features(train_orders_train, labels_given=True)\ndf_cv, labels_cv = features(train_orders_cv, labels_given=True)",
      "execution_count": 21,
      "outputs": [
        {
          "output_type": "stream",
          "text": "build candidate list\norder row 10000\norder row 20000\norder row 30000\norder row 40000\norder row 50000\norder row 60000\norder row 70000\norder row 80000\norder row 90000\norder row 100000\norder row 110000\norder row 120000\nuser related features\norder related features\nproduct related features\nuser_X_product related features\norder_id                              int32\nproduct_id                            int32\nuser_id                               int32\nuser_total_orders                     int16\nuser_total_items                      int16\ntotal_distinct_items                  int16\nuser_average_days_between_orders    float32\nuser_average_basket                 float32\nuser_total_buy_max                    int16\norder_dow                              int8\norder_hour_of_day                      int8\ndays_since_prior_order              float32\ndays_since_ratio                    float32\naisle_id                              uint8\ndepartment_id                         uint8\nproduct_orders                        int32\nproduct_reorders                    float32\nproduct_reorder_rate                float32\nUP_orders                             int16\nUP_orders_ratio                     float32\nUP_average_pos_in_cart              float32\nUP_reorder_rate                     float32\nUP_orders_since_last                  int16\nUP_delta_hour_vs_last                  int8\nUP_delta_dow_vs_last                   int8\nUP_drop_chance                      float64\nUP_chance_vs_bought                 float32\nUP_chance                           float32\nUP_chance_ratio                     float32\ndtype: object\nIndex                                     80\norder_id                            33240552\nproduct_id                          33240552\nuser_id                             33240552\nuser_total_orders                   16620276\nuser_total_items                    16620276\ntotal_distinct_items                16620276\nuser_average_days_between_orders    33240552\nuser_average_basket                 33240552\nuser_total_buy_max                  16620276\norder_dow                            8310138\norder_hour_of_day                    8310138\ndays_since_prior_order              33240552\ndays_since_ratio                    33240552\naisle_id                             8310138\ndepartment_id                        8310138\nproduct_orders                      33240552\nproduct_reorders                    33240552\nproduct_reorder_rate                33240552\nUP_orders                           16620276\nUP_orders_ratio                     33240552\nUP_average_pos_in_cart              33240552\nUP_reorder_rate                     33240552\nUP_orders_since_last                16620276\nUP_delta_hour_vs_last                8310138\nUP_delta_dow_vs_last                 8310138\nUP_drop_chance                      66481104\nUP_chance_vs_bought                 33240552\nUP_chance                           33240552\nUP_chance_ratio                     33240552\ndtype: int64\nbuild candidate list\nuser related features\norder related features\nproduct related features\nuser_X_product related features\norder_id                              int32\nproduct_id                            int32\nuser_id                               int32\nuser_total_orders                     int16\nuser_total_items                      int16\ntotal_distinct_items                  int16\nuser_average_days_between_orders    float32\nuser_average_basket                 float32\nuser_total_buy_max                    int16\norder_dow                              int8\norder_hour_of_day                      int8\ndays_since_prior_order              float32\ndays_since_ratio                    float32\naisle_id                              uint8\ndepartment_id                         uint8\nproduct_orders                        int32\nproduct_reorders                    float32\nproduct_reorder_rate                float32\nUP_orders                             int16\nUP_orders_ratio                     float32\nUP_average_pos_in_cart              float32\nUP_reorder_rate                     float32\nUP_orders_since_last                  int16\nUP_delta_hour_vs_last                  int8\nUP_delta_dow_vs_last                   int8\nUP_drop_chance                      float64\nUP_chance_vs_bought                 float32\nUP_chance                           float32\nUP_chance_ratio                     float32\ndtype: object\nIndex                                    80\norder_id                             658092\nproduct_id                           658092\nuser_id                              658092\nuser_total_orders                    329046\nuser_total_items                     329046\ntotal_distinct_items                 329046\nuser_average_days_between_orders     658092\nuser_average_basket                  658092\nuser_total_buy_max                   329046\norder_dow                            164523\norder_hour_of_day                    164523\ndays_since_prior_order               658092\ndays_since_ratio                     658092\naisle_id                             164523\ndepartment_id                        164523\nproduct_orders                       658092\nproduct_reorders                     658092\nproduct_reorder_rate                 658092\nUP_orders                            329046\nUP_orders_ratio                      658092\nUP_average_pos_in_cart               658092\nUP_reorder_rate                      658092\nUP_orders_since_last                 329046\nUP_delta_hour_vs_last                164523\nUP_delta_dow_vs_last                 164523\nUP_drop_chance                      1316184\nUP_chance_vs_bought                  658092\nUP_chance                            658092\nUP_chance_ratio                      658092\ndtype: int64\n",
          "name": "stdout"
        }
      ]
    },
    {
      "metadata": {
        "_uuid": "2b99d08fe2866bc456d2e03b8ae9420104e9df54"
      },
      "cell_type": "markdown",
      "source": "**Training light GBM **"
    },
    {
      "metadata": {
        "trusted": true,
        "_uuid": "4a980ecd4412793c5f61fd4e04d7651c21b04c66"
      },
      "cell_type": "code",
      "source": "features_to_use = ['user_total_orders', 'user_total_items',\n       'total_distinct_items', 'user_average_days_between_orders',\n       'user_average_basket', 'order_dow',\n       'order_hour_of_day', 'days_since_prior_order', 'days_since_ratio',\n       'department_id', 'product_orders', 'product_reorders',\n       'product_reorder_rate', 'UP_orders', 'UP_orders_ratio',\n       'UP_average_pos_in_cart', 'UP_reorder_rate', 'UP_orders_since_last',\n       'UP_delta_hour_vs_last', 'UP_delta_dow_vs_last', 'UP_drop_chance',\n       'UP_chance_vs_bought', 'user_total_buy_max', 'UP_chance', 'UP_chance_ratio','aisle_id']",
      "execution_count": 22,
      "outputs": []
    },
    {
      "metadata": {
        "trusted": true,
        "_uuid": "e7458c84836b3cf45cd3d918f18ba01d0e105312"
      },
      "cell_type": "code",
      "source": "print('formating for lgb')\nd_train = lgb.Dataset(df_train[features_to_use],\n                      label=labels_train,\n                      categorical_feature=['aisle_id', 'department_id']) ",
      "execution_count": 23,
      "outputs": [
        {
          "output_type": "stream",
          "text": "formating for lgb\n",
          "name": "stdout"
        }
      ]
    },
    {
      "metadata": {
        "trusted": true,
        "_uuid": "3c0f114611047e16bbbdafe88a0a5730e21aa8ca"
      },
      "cell_type": "code",
      "source": "##Best Parameters\nparams = {\n    'task': 'train',\n    'boosting_type': 'gbdt',\n    'objective': 'binary',\n    'metric': {'binary_logloss'},\n    'num_leaves': 96,\n    'max_depth': 10,\n    'feature_fraction': 0.9,\n    'bagging_fraction': 0.95,\n    'bagging_freq': 5\n}\nROUNDS = 100",
      "execution_count": 24,
      "outputs": []
    },
    {
      "metadata": {
        "trusted": true,
        "_uuid": "0609c6e09e7a438da57e72dc88b499a8d0b8812d"
      },
      "cell_type": "code",
      "source": "print('light GBM train :-)')\nbst = lgb.train(params, d_train, ROUNDS)",
      "execution_count": 25,
      "outputs": [
        {
          "output_type": "stream",
          "text": "light GBM train :-)\n",
          "name": "stdout"
        },
        {
          "output_type": "stream",
          "text": "/opt/conda/lib/python3.6/site-packages/lightgbm/basic.py:1186: UserWarning: Using categorical_feature in Dataset.\n  warnings.warn('Using categorical_feature in Dataset.')\n",
          "name": "stderr"
        }
      ]
    },
    {
      "metadata": {
        "_uuid": "65fb10ffa2f188fa78e8a3e2e460895aae6b6475"
      },
      "cell_type": "markdown",
      "source": "**Function to finding products to recommend using light GBM**"
    },
    {
      "metadata": {
        "trusted": true,
        "_uuid": "a9dfc95b4e1e1a159daea6f2ba85b38c67387db9"
      },
      "cell_type": "code",
      "source": "def pred_fo (df_order,order_id):\n    \n    preds = bst.predict(df_order[features_to_use])\n    df_order['pred'] = preds\n    d = dict()\n    for row in df_order.itertuples():\n        if row.pred > 0.22:\n            try:\n                d[row.order_id] += ' ' + str(row.product_id)\n            except:\n                d[row.order_id] = str(row.product_id)\n\n    for order in df_order.order_id:\n        if order not in d:\n            d[order] = 'None'\n            \n    sub = pd.DataFrame.from_dict(d, orient='index')\n    \n    sub.reset_index(inplace=True)\n    sub.columns = ['order_id', 'products']\n    \n    actual = list([i.split(' ') for i in list(sub['products'])])\n    predicted  = list(train_orders_product[train_orders_product['order_id'] == order_id]['product_id'])\n    acc = 0\n    rr = [val for val in predicted if val in actual]\n    if len(rr) == 0:\n        acc = 0\n    else:\n        acc = 1\n    \n    return (acc)",
      "execution_count": 26,
      "outputs": []
    },
    {
      "metadata": {
        "_uuid": "27b90942ebec8a0d6b3ce89b42f4577c49cf5470"
      },
      "cell_type": "markdown",
      "source": "**Function to find accuracy of the recommended products**"
    },
    {
      "metadata": {
        "trusted": true,
        "_uuid": "ba73a9ed02195735c1e33def0fcc86a0445f688e"
      },
      "cell_type": "code",
      "source": "def recommend (orderid):\n    df_cv_l  = df_cv\n    df_cv_l['label'] = labels_cv\n    df_order = df_cv_l[df_cv_l['order_id'] == orderid]\n    accuracy = pred_fo(df_order,orderid)\n    \n    df_ol = df_cv_l[df_cv_l['order_id'] == orderid]\n    df_op = df_ol[df_ol['label'] == 1]\n    products = list(train_orders_product[train_orders_product['order_id'] == orderid]['product_id'])\n    user = list(df_op['user_id'].unique())\n    user_products_cluster = user_top5_aisle_product[user_top5_aisle_product.user_id.isin (df_op['user_id'].unique())]\n    upc_product = list(user_products_cluster['product1'])\n    upc_product.append(list(user_products_cluster['product2']))\n    for i in products:\n        temp = apriori[apriori['item_A'] == i].nlargest(9,'lift')\n        p_products = list(temp['item_B'])\n        p_products.append(upc_product)\n        rr = [val for val in p_products if val in products]\n        if len(rr) > 0:\n            accuracy = accuracy + 1\n    \n    return(accuracy/len(products))",
      "execution_count": 27,
      "outputs": []
    },
    {
      "metadata": {
        "_uuid": "0ac27f57e5e55fb5c13c85197cca33644972560b"
      },
      "cell_type": "markdown",
      "source": "**Finding accuracy **"
    },
    {
      "metadata": {
        "trusted": true,
        "_uuid": "4c9408d2d7563470ab7995db27f651df14a4a4c7"
      },
      "cell_type": "code",
      "source": "orders_cv = list(train_orders_cv['order_id'])\naccuracy = []\nj = 0\nfor i in orders_cv:\n    print('Orders left:', 2500 - j)\n    j = j+1\n    accuracy.append(recommend(i))\n\n",
      "execution_count": 28,
      "outputs": [
        {
          "output_type": "stream",
          "text": "Orders left: 2500\n",
          "name": "stdout"
        },
        {
          "output_type": "stream",
          "text": "/opt/conda/lib/python3.6/site-packages/ipykernel_launcher.py:4: SettingWithCopyWarning: \nA value is trying to be set on a copy of a slice from a DataFrame.\nTry using .loc[row_indexer,col_indexer] = value instead\n\nSee the caveats in the documentation: http://pandas.pydata.org/pandas-docs/stable/indexing.html#indexing-view-versus-copy\n  after removing the cwd from sys.path.\n",
          "name": "stderr"
        },
        {
          "output_type": "stream",
          "text": "Orders left: 2499\nOrders left: 2498\nOrders left: 2497\nOrders left: 2496\nOrders left: 2495\nOrders left: 2494\nOrders left: 2493\nOrders left: 2492\nOrders left: 2491\nOrders left: 2490\nOrders left: 2489\nOrders left: 2488\nOrders left: 2487\nOrders left: 2486\nOrders left: 2485\nOrders left: 2484\nOrders left: 2483\nOrders left: 2482\nOrders left: 2481\nOrders left: 2480\nOrders left: 2479\nOrders left: 2478\nOrders left: 2477\nOrders left: 2476\nOrders left: 2475\nOrders left: 2474\nOrders left: 2473\nOrders left: 2472\nOrders left: 2471\nOrders left: 2470\nOrders left: 2469\nOrders left: 2468\nOrders left: 2467\nOrders left: 2466\nOrders left: 2465\nOrders left: 2464\nOrders left: 2463\nOrders left: 2462\nOrders left: 2461\nOrders left: 2460\nOrders left: 2459\nOrders left: 2458\nOrders left: 2457\nOrders left: 2456\nOrders left: 2455\nOrders left: 2454\nOrders left: 2453\nOrders left: 2452\nOrders left: 2451\nOrders left: 2450\nOrders left: 2449\nOrders left: 2448\nOrders left: 2447\nOrders left: 2446\nOrders left: 2445\nOrders left: 2444\nOrders left: 2443\nOrders left: 2442\nOrders left: 2441\nOrders left: 2440\nOrders left: 2439\nOrders left: 2438\nOrders left: 2437\nOrders left: 2436\nOrders left: 2435\nOrders left: 2434\nOrders left: 2433\nOrders left: 2432\nOrders left: 2431\nOrders left: 2430\nOrders left: 2429\nOrders left: 2428\nOrders left: 2427\nOrders left: 2426\nOrders left: 2425\nOrders left: 2424\nOrders left: 2423\nOrders left: 2422\nOrders left: 2421\nOrders left: 2420\nOrders left: 2419\nOrders left: 2418\nOrders left: 2417\nOrders left: 2416\nOrders left: 2415\nOrders left: 2414\nOrders left: 2413\nOrders left: 2412\nOrders left: 2411\nOrders left: 2410\nOrders left: 2409\nOrders left: 2408\nOrders left: 2407\nOrders left: 2406\nOrders left: 2405\nOrders left: 2404\nOrders left: 2403\nOrders left: 2402\nOrders left: 2401\nOrders left: 2400\nOrders left: 2399\nOrders left: 2398\nOrders left: 2397\nOrders left: 2396\nOrders left: 2395\nOrders left: 2394\nOrders left: 2393\nOrders left: 2392\nOrders left: 2391\nOrders left: 2390\nOrders left: 2389\nOrders left: 2388\nOrders left: 2387\nOrders left: 2386\nOrders left: 2385\nOrders left: 2384\nOrders left: 2383\nOrders left: 2382\nOrders left: 2381\nOrders left: 2380\nOrders left: 2379\nOrders left: 2378\nOrders left: 2377\nOrders left: 2376\nOrders left: 2375\nOrders left: 2374\nOrders left: 2373\nOrders left: 2372\nOrders left: 2371\nOrders left: 2370\nOrders left: 2369\nOrders left: 2368\nOrders left: 2367\nOrders left: 2366\nOrders left: 2365\nOrders left: 2364\nOrders left: 2363\nOrders left: 2362\nOrders left: 2361\nOrders left: 2360\nOrders left: 2359\nOrders left: 2358\nOrders left: 2357\nOrders left: 2356\nOrders left: 2355\nOrders left: 2354\nOrders left: 2353\nOrders left: 2352\nOrders left: 2351\nOrders left: 2350\nOrders left: 2349\nOrders left: 2348\nOrders left: 2347\nOrders left: 2346\nOrders left: 2345\nOrders left: 2344\nOrders left: 2343\nOrders left: 2342\nOrders left: 2341\nOrders left: 2340\nOrders left: 2339\nOrders left: 2338\nOrders left: 2337\nOrders left: 2336\nOrders left: 2335\nOrders left: 2334\nOrders left: 2333\nOrders left: 2332\nOrders left: 2331\nOrders left: 2330\nOrders left: 2329\nOrders left: 2328\nOrders left: 2327\nOrders left: 2326\nOrders left: 2325\nOrders left: 2324\nOrders left: 2323\nOrders left: 2322\nOrders left: 2321\nOrders left: 2320\nOrders left: 2319\nOrders left: 2318\nOrders left: 2317\nOrders left: 2316\nOrders left: 2315\nOrders left: 2314\nOrders left: 2313\nOrders left: 2312\nOrders left: 2311\nOrders left: 2310\nOrders left: 2309\nOrders left: 2308\nOrders left: 2307\nOrders left: 2306\nOrders left: 2305\nOrders left: 2304\nOrders left: 2303\nOrders left: 2302\nOrders left: 2301\nOrders left: 2300\nOrders left: 2299\nOrders left: 2298\nOrders left: 2297\nOrders left: 2296\nOrders left: 2295\nOrders left: 2294\nOrders left: 2293\nOrders left: 2292\nOrders left: 2291\nOrders left: 2290\nOrders left: 2289\nOrders left: 2288\nOrders left: 2287\nOrders left: 2286\nOrders left: 2285\nOrders left: 2284\nOrders left: 2283\nOrders left: 2282\nOrders left: 2281\nOrders left: 2280\nOrders left: 2279\nOrders left: 2278\nOrders left: 2277\nOrders left: 2276\nOrders left: 2275\nOrders left: 2274\nOrders left: 2273\nOrders left: 2272\nOrders left: 2271\nOrders left: 2270\nOrders left: 2269\nOrders left: 2268\nOrders left: 2267\nOrders left: 2266\nOrders left: 2265\nOrders left: 2264\nOrders left: 2263\nOrders left: 2262\nOrders left: 2261\nOrders left: 2260\nOrders left: 2259\nOrders left: 2258\nOrders left: 2257\nOrders left: 2256\nOrders left: 2255\nOrders left: 2254\nOrders left: 2253\nOrders left: 2252\nOrders left: 2251\nOrders left: 2250\nOrders left: 2249\nOrders left: 2248\nOrders left: 2247\nOrders left: 2246\nOrders left: 2245\nOrders left: 2244\nOrders left: 2243\nOrders left: 2242\nOrders left: 2241\nOrders left: 2240\nOrders left: 2239\nOrders left: 2238\nOrders left: 2237\nOrders left: 2236\nOrders left: 2235\nOrders left: 2234\nOrders left: 2233\nOrders left: 2232\nOrders left: 2231\nOrders left: 2230\nOrders left: 2229\nOrders left: 2228\nOrders left: 2227\nOrders left: 2226\nOrders left: 2225\nOrders left: 2224\nOrders left: 2223\nOrders left: 2222\nOrders left: 2221\nOrders left: 2220\nOrders left: 2219\nOrders left: 2218\nOrders left: 2217\nOrders left: 2216\nOrders left: 2215\nOrders left: 2214\nOrders left: 2213\nOrders left: 2212\nOrders left: 2211\nOrders left: 2210\nOrders left: 2209\nOrders left: 2208\nOrders left: 2207\nOrders left: 2206\nOrders left: 2205\nOrders left: 2204\nOrders left: 2203\nOrders left: 2202\nOrders left: 2201\nOrders left: 2200\nOrders left: 2199\nOrders left: 2198\nOrders left: 2197\nOrders left: 2196\nOrders left: 2195\nOrders left: 2194\nOrders left: 2193\nOrders left: 2192\nOrders left: 2191\nOrders left: 2190\nOrders left: 2189\nOrders left: 2188\nOrders left: 2187\nOrders left: 2186\nOrders left: 2185\nOrders left: 2184\nOrders left: 2183\nOrders left: 2182\nOrders left: 2181\nOrders left: 2180\nOrders left: 2179\nOrders left: 2178\nOrders left: 2177\nOrders left: 2176\nOrders left: 2175\nOrders left: 2174\nOrders left: 2173\nOrders left: 2172\nOrders left: 2171\nOrders left: 2170\nOrders left: 2169\nOrders left: 2168\nOrders left: 2167\nOrders left: 2166\nOrders left: 2165\nOrders left: 2164\nOrders left: 2163\nOrders left: 2162\nOrders left: 2161\nOrders left: 2160\nOrders left: 2159\nOrders left: 2158\nOrders left: 2157\nOrders left: 2156\nOrders left: 2155\nOrders left: 2154\nOrders left: 2153\nOrders left: 2152\nOrders left: 2151\nOrders left: 2150\nOrders left: 2149\nOrders left: 2148\nOrders left: 2147\nOrders left: 2146\nOrders left: 2145\nOrders left: 2144\nOrders left: 2143\nOrders left: 2142\nOrders left: 2141\nOrders left: 2140\nOrders left: 2139\nOrders left: 2138\nOrders left: 2137\nOrders left: 2136\nOrders left: 2135\nOrders left: 2134\nOrders left: 2133\nOrders left: 2132\nOrders left: 2131\nOrders left: 2130\nOrders left: 2129\nOrders left: 2128\nOrders left: 2127\nOrders left: 2126\nOrders left: 2125\nOrders left: 2124\nOrders left: 2123\nOrders left: 2122\nOrders left: 2121\nOrders left: 2120\nOrders left: 2119\nOrders left: 2118\nOrders left: 2117\nOrders left: 2116\nOrders left: 2115\nOrders left: 2114\nOrders left: 2113\nOrders left: 2112\nOrders left: 2111\nOrders left: 2110\nOrders left: 2109\nOrders left: 2108\nOrders left: 2107\nOrders left: 2106\nOrders left: 2105\nOrders left: 2104\nOrders left: 2103\nOrders left: 2102\nOrders left: 2101\nOrders left: 2100\nOrders left: 2099\nOrders left: 2098\nOrders left: 2097\nOrders left: 2096\nOrders left: 2095\nOrders left: 2094\nOrders left: 2093\nOrders left: 2092\nOrders left: 2091\nOrders left: 2090\nOrders left: 2089\nOrders left: 2088\nOrders left: 2087\nOrders left: 2086\nOrders left: 2085\nOrders left: 2084\nOrders left: 2083\nOrders left: 2082\nOrders left: 2081\nOrders left: 2080\nOrders left: 2079\nOrders left: 2078\nOrders left: 2077\nOrders left: 2076\nOrders left: 2075\nOrders left: 2074\nOrders left: 2073\nOrders left: 2072\nOrders left: 2071\nOrders left: 2070\nOrders left: 2069\nOrders left: 2068\nOrders left: 2067\nOrders left: 2066\nOrders left: 2065\nOrders left: 2064\nOrders left: 2063\nOrders left: 2062\nOrders left: 2061\nOrders left: 2060\nOrders left: 2059\nOrders left: 2058\nOrders left: 2057\nOrders left: 2056\nOrders left: 2055\nOrders left: 2054\nOrders left: 2053\nOrders left: 2052\nOrders left: 2051\nOrders left: 2050\nOrders left: 2049\nOrders left: 2048\nOrders left: 2047\nOrders left: 2046\nOrders left: 2045\nOrders left: 2044\n",
          "name": "stdout"
        },
        {
          "output_type": "stream",
          "text": "Orders left: 2043\nOrders left: 2042\nOrders left: 2041\nOrders left: 2040\nOrders left: 2039\nOrders left: 2038\nOrders left: 2037\nOrders left: 2036\nOrders left: 2035\nOrders left: 2034\nOrders left: 2033\nOrders left: 2032\nOrders left: 2031\nOrders left: 2030\nOrders left: 2029\nOrders left: 2028\nOrders left: 2027\nOrders left: 2026\nOrders left: 2025\nOrders left: 2024\nOrders left: 2023\nOrders left: 2022\nOrders left: 2021\nOrders left: 2020\nOrders left: 2019\nOrders left: 2018\nOrders left: 2017\nOrders left: 2016\nOrders left: 2015\nOrders left: 2014\nOrders left: 2013\nOrders left: 2012\nOrders left: 2011\nOrders left: 2010\nOrders left: 2009\nOrders left: 2008\nOrders left: 2007\nOrders left: 2006\nOrders left: 2005\nOrders left: 2004\nOrders left: 2003\nOrders left: 2002\nOrders left: 2001\nOrders left: 2000\nOrders left: 1999\nOrders left: 1998\nOrders left: 1997\nOrders left: 1996\nOrders left: 1995\nOrders left: 1994\nOrders left: 1993\nOrders left: 1992\nOrders left: 1991\nOrders left: 1990\nOrders left: 1989\nOrders left: 1988\nOrders left: 1987\nOrders left: 1986\nOrders left: 1985\nOrders left: 1984\nOrders left: 1983\nOrders left: 1982\nOrders left: 1981\nOrders left: 1980\nOrders left: 1979\nOrders left: 1978\nOrders left: 1977\nOrders left: 1976\nOrders left: 1975\nOrders left: 1974\nOrders left: 1973\nOrders left: 1972\nOrders left: 1971\nOrders left: 1970\nOrders left: 1969\nOrders left: 1968\nOrders left: 1967\nOrders left: 1966\nOrders left: 1965\nOrders left: 1964\nOrders left: 1963\nOrders left: 1962\nOrders left: 1961\nOrders left: 1960\nOrders left: 1959\nOrders left: 1958\nOrders left: 1957\nOrders left: 1956\nOrders left: 1955\nOrders left: 1954\nOrders left: 1953\nOrders left: 1952\nOrders left: 1951\nOrders left: 1950\nOrders left: 1949\nOrders left: 1948\nOrders left: 1947\nOrders left: 1946\nOrders left: 1945\nOrders left: 1944\nOrders left: 1943\nOrders left: 1942\nOrders left: 1941\nOrders left: 1940\nOrders left: 1939\nOrders left: 1938\nOrders left: 1937\nOrders left: 1936\nOrders left: 1935\nOrders left: 1934\nOrders left: 1933\nOrders left: 1932\nOrders left: 1931\nOrders left: 1930\nOrders left: 1929\nOrders left: 1928\nOrders left: 1927\nOrders left: 1926\nOrders left: 1925\nOrders left: 1924\nOrders left: 1923\nOrders left: 1922\nOrders left: 1921\nOrders left: 1920\nOrders left: 1919\nOrders left: 1918\nOrders left: 1917\nOrders left: 1916\nOrders left: 1915\nOrders left: 1914\nOrders left: 1913\nOrders left: 1912\nOrders left: 1911\nOrders left: 1910\nOrders left: 1909\nOrders left: 1908\nOrders left: 1907\nOrders left: 1906\nOrders left: 1905\nOrders left: 1904\nOrders left: 1903\nOrders left: 1902\nOrders left: 1901\nOrders left: 1900\nOrders left: 1899\nOrders left: 1898\nOrders left: 1897\nOrders left: 1896\nOrders left: 1895\nOrders left: 1894\nOrders left: 1893\nOrders left: 1892\nOrders left: 1891\nOrders left: 1890\nOrders left: 1889\nOrders left: 1888\nOrders left: 1887\nOrders left: 1886\nOrders left: 1885\nOrders left: 1884\nOrders left: 1883\nOrders left: 1882\nOrders left: 1881\nOrders left: 1880\nOrders left: 1879\nOrders left: 1878\nOrders left: 1877\nOrders left: 1876\nOrders left: 1875\nOrders left: 1874\nOrders left: 1873\nOrders left: 1872\nOrders left: 1871\nOrders left: 1870\nOrders left: 1869\nOrders left: 1868\nOrders left: 1867\nOrders left: 1866\nOrders left: 1865\nOrders left: 1864\nOrders left: 1863\nOrders left: 1862\nOrders left: 1861\nOrders left: 1860\nOrders left: 1859\nOrders left: 1858\nOrders left: 1857\nOrders left: 1856\nOrders left: 1855\nOrders left: 1854\nOrders left: 1853\nOrders left: 1852\nOrders left: 1851\nOrders left: 1850\nOrders left: 1849\nOrders left: 1848\nOrders left: 1847\nOrders left: 1846\nOrders left: 1845\nOrders left: 1844\nOrders left: 1843\nOrders left: 1842\nOrders left: 1841\nOrders left: 1840\nOrders left: 1839\nOrders left: 1838\nOrders left: 1837\nOrders left: 1836\nOrders left: 1835\nOrders left: 1834\nOrders left: 1833\nOrders left: 1832\nOrders left: 1831\nOrders left: 1830\nOrders left: 1829\nOrders left: 1828\nOrders left: 1827\nOrders left: 1826\nOrders left: 1825\nOrders left: 1824\nOrders left: 1823\nOrders left: 1822\nOrders left: 1821\nOrders left: 1820\nOrders left: 1819\nOrders left: 1818\nOrders left: 1817\nOrders left: 1816\nOrders left: 1815\nOrders left: 1814\nOrders left: 1813\nOrders left: 1812\nOrders left: 1811\nOrders left: 1810\nOrders left: 1809\nOrders left: 1808\nOrders left: 1807\nOrders left: 1806\nOrders left: 1805\nOrders left: 1804\nOrders left: 1803\nOrders left: 1802\nOrders left: 1801\nOrders left: 1800\nOrders left: 1799\nOrders left: 1798\nOrders left: 1797\nOrders left: 1796\nOrders left: 1795\nOrders left: 1794\nOrders left: 1793\nOrders left: 1792\nOrders left: 1791\nOrders left: 1790\nOrders left: 1789\nOrders left: 1788\nOrders left: 1787\nOrders left: 1786\nOrders left: 1785\nOrders left: 1784\nOrders left: 1783\nOrders left: 1782\nOrders left: 1781\nOrders left: 1780\nOrders left: 1779\nOrders left: 1778\nOrders left: 1777\nOrders left: 1776\nOrders left: 1775\nOrders left: 1774\nOrders left: 1773\nOrders left: 1772\nOrders left: 1771\nOrders left: 1770\nOrders left: 1769\nOrders left: 1768\nOrders left: 1767\nOrders left: 1766\nOrders left: 1765\nOrders left: 1764\nOrders left: 1763\nOrders left: 1762\nOrders left: 1761\nOrders left: 1760\nOrders left: 1759\nOrders left: 1758\nOrders left: 1757\nOrders left: 1756\nOrders left: 1755\nOrders left: 1754\nOrders left: 1753\nOrders left: 1752\nOrders left: 1751\nOrders left: 1750\nOrders left: 1749\nOrders left: 1748\nOrders left: 1747\nOrders left: 1746\nOrders left: 1745\nOrders left: 1744\nOrders left: 1743\nOrders left: 1742\nOrders left: 1741\nOrders left: 1740\nOrders left: 1739\nOrders left: 1738\nOrders left: 1737\nOrders left: 1736\nOrders left: 1735\nOrders left: 1734\nOrders left: 1733\nOrders left: 1732\nOrders left: 1731\nOrders left: 1730\nOrders left: 1729\nOrders left: 1728\nOrders left: 1727\nOrders left: 1726\nOrders left: 1725\nOrders left: 1724\nOrders left: 1723\nOrders left: 1722\nOrders left: 1721\nOrders left: 1720\nOrders left: 1719\nOrders left: 1718\nOrders left: 1717\nOrders left: 1716\nOrders left: 1715\nOrders left: 1714\nOrders left: 1713\nOrders left: 1712\nOrders left: 1711\nOrders left: 1710\nOrders left: 1709\nOrders left: 1708\nOrders left: 1707\nOrders left: 1706\nOrders left: 1705\nOrders left: 1704\nOrders left: 1703\nOrders left: 1702\nOrders left: 1701\nOrders left: 1700\nOrders left: 1699\nOrders left: 1698\nOrders left: 1697\nOrders left: 1696\nOrders left: 1695\nOrders left: 1694\nOrders left: 1693\nOrders left: 1692\nOrders left: 1691\nOrders left: 1690\nOrders left: 1689\nOrders left: 1688\nOrders left: 1687\nOrders left: 1686\nOrders left: 1685\nOrders left: 1684\nOrders left: 1683\nOrders left: 1682\nOrders left: 1681\nOrders left: 1680\nOrders left: 1679\nOrders left: 1678\nOrders left: 1677\nOrders left: 1676\nOrders left: 1675\nOrders left: 1674\nOrders left: 1673\nOrders left: 1672\nOrders left: 1671\nOrders left: 1670\nOrders left: 1669\nOrders left: 1668\nOrders left: 1667\nOrders left: 1666\nOrders left: 1665\nOrders left: 1664\nOrders left: 1663\nOrders left: 1662\nOrders left: 1661\nOrders left: 1660\nOrders left: 1659\nOrders left: 1658\nOrders left: 1657\nOrders left: 1656\nOrders left: 1655\nOrders left: 1654\nOrders left: 1653\nOrders left: 1652\nOrders left: 1651\nOrders left: 1650\nOrders left: 1649\nOrders left: 1648\nOrders left: 1647\nOrders left: 1646\nOrders left: 1645\nOrders left: 1644\nOrders left: 1643\nOrders left: 1642\nOrders left: 1641\nOrders left: 1640\nOrders left: 1639\nOrders left: 1638\nOrders left: 1637\nOrders left: 1636\nOrders left: 1635\nOrders left: 1634\nOrders left: 1633\nOrders left: 1632\nOrders left: 1631\nOrders left: 1630\nOrders left: 1629\nOrders left: 1628\nOrders left: 1627\nOrders left: 1626\nOrders left: 1625\nOrders left: 1624\nOrders left: 1623\nOrders left: 1622\nOrders left: 1621\nOrders left: 1620\nOrders left: 1619\nOrders left: 1618\nOrders left: 1617\nOrders left: 1616\nOrders left: 1615\nOrders left: 1614\nOrders left: 1613\nOrders left: 1612\nOrders left: 1611\nOrders left: 1610\nOrders left: 1609\nOrders left: 1608\nOrders left: 1607\nOrders left: 1606\nOrders left: 1605\nOrders left: 1604\nOrders left: 1603\nOrders left: 1602\nOrders left: 1601\nOrders left: 1600\nOrders left: 1599\nOrders left: 1598\nOrders left: 1597\nOrders left: 1596\nOrders left: 1595\nOrders left: 1594\nOrders left: 1593\nOrders left: 1592\nOrders left: 1591\nOrders left: 1590\nOrders left: 1589\nOrders left: 1588\n",
          "name": "stdout"
        },
        {
          "output_type": "stream",
          "text": "Orders left: 1587\nOrders left: 1586\nOrders left: 1585\nOrders left: 1584\nOrders left: 1583\nOrders left: 1582\nOrders left: 1581\nOrders left: 1580\nOrders left: 1579\nOrders left: 1578\nOrders left: 1577\nOrders left: 1576\nOrders left: 1575\nOrders left: 1574\nOrders left: 1573\nOrders left: 1572\nOrders left: 1571\nOrders left: 1570\nOrders left: 1569\nOrders left: 1568\nOrders left: 1567\nOrders left: 1566\nOrders left: 1565\nOrders left: 1564\nOrders left: 1563\nOrders left: 1562\nOrders left: 1561\nOrders left: 1560\nOrders left: 1559\nOrders left: 1558\nOrders left: 1557\nOrders left: 1556\nOrders left: 1555\nOrders left: 1554\nOrders left: 1553\nOrders left: 1552\nOrders left: 1551\nOrders left: 1550\nOrders left: 1549\nOrders left: 1548\nOrders left: 1547\nOrders left: 1546\nOrders left: 1545\nOrders left: 1544\nOrders left: 1543\nOrders left: 1542\nOrders left: 1541\nOrders left: 1540\nOrders left: 1539\nOrders left: 1538\nOrders left: 1537\nOrders left: 1536\nOrders left: 1535\nOrders left: 1534\nOrders left: 1533\nOrders left: 1532\nOrders left: 1531\nOrders left: 1530\nOrders left: 1529\nOrders left: 1528\nOrders left: 1527\nOrders left: 1526\nOrders left: 1525\nOrders left: 1524\nOrders left: 1523\nOrders left: 1522\nOrders left: 1521\nOrders left: 1520\nOrders left: 1519\nOrders left: 1518\nOrders left: 1517\nOrders left: 1516\nOrders left: 1515\nOrders left: 1514\nOrders left: 1513\nOrders left: 1512\nOrders left: 1511\nOrders left: 1510\nOrders left: 1509\nOrders left: 1508\nOrders left: 1507\nOrders left: 1506\nOrders left: 1505\nOrders left: 1504\nOrders left: 1503\nOrders left: 1502\nOrders left: 1501\nOrders left: 1500\nOrders left: 1499\nOrders left: 1498\nOrders left: 1497\nOrders left: 1496\nOrders left: 1495\nOrders left: 1494\nOrders left: 1493\nOrders left: 1492\nOrders left: 1491\nOrders left: 1490\nOrders left: 1489\nOrders left: 1488\nOrders left: 1487\nOrders left: 1486\nOrders left: 1485\nOrders left: 1484\nOrders left: 1483\nOrders left: 1482\nOrders left: 1481\nOrders left: 1480\nOrders left: 1479\nOrders left: 1478\nOrders left: 1477\nOrders left: 1476\nOrders left: 1475\nOrders left: 1474\nOrders left: 1473\nOrders left: 1472\nOrders left: 1471\nOrders left: 1470\nOrders left: 1469\nOrders left: 1468\nOrders left: 1467\nOrders left: 1466\nOrders left: 1465\nOrders left: 1464\nOrders left: 1463\nOrders left: 1462\nOrders left: 1461\nOrders left: 1460\nOrders left: 1459\nOrders left: 1458\nOrders left: 1457\nOrders left: 1456\nOrders left: 1455\nOrders left: 1454\nOrders left: 1453\nOrders left: 1452\nOrders left: 1451\nOrders left: 1450\nOrders left: 1449\nOrders left: 1448\nOrders left: 1447\nOrders left: 1446\nOrders left: 1445\nOrders left: 1444\nOrders left: 1443\nOrders left: 1442\nOrders left: 1441\nOrders left: 1440\nOrders left: 1439\nOrders left: 1438\nOrders left: 1437\nOrders left: 1436\nOrders left: 1435\nOrders left: 1434\nOrders left: 1433\nOrders left: 1432\nOrders left: 1431\nOrders left: 1430\nOrders left: 1429\nOrders left: 1428\nOrders left: 1427\nOrders left: 1426\nOrders left: 1425\nOrders left: 1424\nOrders left: 1423\nOrders left: 1422\nOrders left: 1421\nOrders left: 1420\nOrders left: 1419\nOrders left: 1418\nOrders left: 1417\nOrders left: 1416\nOrders left: 1415\nOrders left: 1414\nOrders left: 1413\nOrders left: 1412\nOrders left: 1411\nOrders left: 1410\nOrders left: 1409\nOrders left: 1408\nOrders left: 1407\nOrders left: 1406\nOrders left: 1405\nOrders left: 1404\nOrders left: 1403\nOrders left: 1402\nOrders left: 1401\nOrders left: 1400\nOrders left: 1399\nOrders left: 1398\nOrders left: 1397\nOrders left: 1396\nOrders left: 1395\nOrders left: 1394\nOrders left: 1393\nOrders left: 1392\nOrders left: 1391\nOrders left: 1390\nOrders left: 1389\nOrders left: 1388\nOrders left: 1387\nOrders left: 1386\nOrders left: 1385\nOrders left: 1384\nOrders left: 1383\nOrders left: 1382\nOrders left: 1381\nOrders left: 1380\nOrders left: 1379\nOrders left: 1378\nOrders left: 1377\nOrders left: 1376\nOrders left: 1375\nOrders left: 1374\nOrders left: 1373\nOrders left: 1372\nOrders left: 1371\nOrders left: 1370\nOrders left: 1369\nOrders left: 1368\nOrders left: 1367\nOrders left: 1366\nOrders left: 1365\nOrders left: 1364\nOrders left: 1363\nOrders left: 1362\nOrders left: 1361\nOrders left: 1360\nOrders left: 1359\nOrders left: 1358\nOrders left: 1357\nOrders left: 1356\nOrders left: 1355\nOrders left: 1354\nOrders left: 1353\nOrders left: 1352\nOrders left: 1351\nOrders left: 1350\nOrders left: 1349\nOrders left: 1348\nOrders left: 1347\nOrders left: 1346\nOrders left: 1345\nOrders left: 1344\nOrders left: 1343\nOrders left: 1342\nOrders left: 1341\nOrders left: 1340\nOrders left: 1339\nOrders left: 1338\nOrders left: 1337\nOrders left: 1336\nOrders left: 1335\nOrders left: 1334\nOrders left: 1333\nOrders left: 1332\nOrders left: 1331\nOrders left: 1330\nOrders left: 1329\nOrders left: 1328\nOrders left: 1327\nOrders left: 1326\nOrders left: 1325\nOrders left: 1324\nOrders left: 1323\nOrders left: 1322\nOrders left: 1321\nOrders left: 1320\nOrders left: 1319\nOrders left: 1318\nOrders left: 1317\nOrders left: 1316\nOrders left: 1315\nOrders left: 1314\nOrders left: 1313\nOrders left: 1312\nOrders left: 1311\nOrders left: 1310\nOrders left: 1309\nOrders left: 1308\nOrders left: 1307\nOrders left: 1306\nOrders left: 1305\nOrders left: 1304\nOrders left: 1303\nOrders left: 1302\nOrders left: 1301\nOrders left: 1300\nOrders left: 1299\nOrders left: 1298\nOrders left: 1297\nOrders left: 1296\nOrders left: 1295\nOrders left: 1294\nOrders left: 1293\nOrders left: 1292\nOrders left: 1291\nOrders left: 1290\nOrders left: 1289\nOrders left: 1288\nOrders left: 1287\nOrders left: 1286\nOrders left: 1285\nOrders left: 1284\nOrders left: 1283\nOrders left: 1282\nOrders left: 1281\nOrders left: 1280\nOrders left: 1279\nOrders left: 1278\nOrders left: 1277\nOrders left: 1276\nOrders left: 1275\nOrders left: 1274\nOrders left: 1273\nOrders left: 1272\nOrders left: 1271\nOrders left: 1270\nOrders left: 1269\nOrders left: 1268\nOrders left: 1267\nOrders left: 1266\nOrders left: 1265\nOrders left: 1264\nOrders left: 1263\nOrders left: 1262\nOrders left: 1261\nOrders left: 1260\nOrders left: 1259\nOrders left: 1258\nOrders left: 1257\nOrders left: 1256\nOrders left: 1255\nOrders left: 1254\nOrders left: 1253\nOrders left: 1252\nOrders left: 1251\nOrders left: 1250\nOrders left: 1249\nOrders left: 1248\nOrders left: 1247\nOrders left: 1246\nOrders left: 1245\nOrders left: 1244\nOrders left: 1243\nOrders left: 1242\nOrders left: 1241\nOrders left: 1240\nOrders left: 1239\nOrders left: 1238\nOrders left: 1237\nOrders left: 1236\nOrders left: 1235\nOrders left: 1234\nOrders left: 1233\nOrders left: 1232\nOrders left: 1231\nOrders left: 1230\nOrders left: 1229\nOrders left: 1228\nOrders left: 1227\nOrders left: 1226\nOrders left: 1225\nOrders left: 1224\nOrders left: 1223\nOrders left: 1222\nOrders left: 1221\nOrders left: 1220\nOrders left: 1219\nOrders left: 1218\nOrders left: 1217\nOrders left: 1216\nOrders left: 1215\nOrders left: 1214\nOrders left: 1213\nOrders left: 1212\nOrders left: 1211\nOrders left: 1210\nOrders left: 1209\nOrders left: 1208\nOrders left: 1207\nOrders left: 1206\nOrders left: 1205\nOrders left: 1204\nOrders left: 1203\nOrders left: 1202\nOrders left: 1201\nOrders left: 1200\nOrders left: 1199\nOrders left: 1198\nOrders left: 1197\nOrders left: 1196\nOrders left: 1195\nOrders left: 1194\nOrders left: 1193\nOrders left: 1192\nOrders left: 1191\nOrders left: 1190\nOrders left: 1189\nOrders left: 1188\nOrders left: 1187\nOrders left: 1186\nOrders left: 1185\nOrders left: 1184\nOrders left: 1183\nOrders left: 1182\nOrders left: 1181\nOrders left: 1180\nOrders left: 1179\nOrders left: 1178\nOrders left: 1177\nOrders left: 1176\nOrders left: 1175\nOrders left: 1174\nOrders left: 1173\nOrders left: 1172\nOrders left: 1171\nOrders left: 1170\nOrders left: 1169\nOrders left: 1168\nOrders left: 1167\nOrders left: 1166\nOrders left: 1165\nOrders left: 1164\nOrders left: 1163\nOrders left: 1162\nOrders left: 1161\nOrders left: 1160\nOrders left: 1159\nOrders left: 1158\nOrders left: 1157\nOrders left: 1156\nOrders left: 1155\nOrders left: 1154\nOrders left: 1153\nOrders left: 1152\nOrders left: 1151\nOrders left: 1150\nOrders left: 1149\nOrders left: 1148\nOrders left: 1147\nOrders left: 1146\nOrders left: 1145\nOrders left: 1144\nOrders left: 1143\nOrders left: 1142\nOrders left: 1141\nOrders left: 1140\nOrders left: 1139\nOrders left: 1138\nOrders left: 1137\nOrders left: 1136\nOrders left: 1135\nOrders left: 1134\nOrders left: 1133\nOrders left: 1132\n",
          "name": "stdout"
        },
        {
          "output_type": "stream",
          "text": "Orders left: 1131\nOrders left: 1130\nOrders left: 1129\nOrders left: 1128\nOrders left: 1127\nOrders left: 1126\nOrders left: 1125\nOrders left: 1124\nOrders left: 1123\nOrders left: 1122\nOrders left: 1121\nOrders left: 1120\nOrders left: 1119\nOrders left: 1118\nOrders left: 1117\nOrders left: 1116\nOrders left: 1115\nOrders left: 1114\nOrders left: 1113\nOrders left: 1112\nOrders left: 1111\nOrders left: 1110\nOrders left: 1109\nOrders left: 1108\nOrders left: 1107\nOrders left: 1106\nOrders left: 1105\nOrders left: 1104\nOrders left: 1103\nOrders left: 1102\nOrders left: 1101\nOrders left: 1100\nOrders left: 1099\nOrders left: 1098\nOrders left: 1097\nOrders left: 1096\nOrders left: 1095\nOrders left: 1094\nOrders left: 1093\nOrders left: 1092\nOrders left: 1091\nOrders left: 1090\nOrders left: 1089\nOrders left: 1088\nOrders left: 1087\nOrders left: 1086\nOrders left: 1085\nOrders left: 1084\nOrders left: 1083\nOrders left: 1082\nOrders left: 1081\nOrders left: 1080\nOrders left: 1079\nOrders left: 1078\nOrders left: 1077\nOrders left: 1076\nOrders left: 1075\nOrders left: 1074\nOrders left: 1073\nOrders left: 1072\nOrders left: 1071\nOrders left: 1070\nOrders left: 1069\nOrders left: 1068\nOrders left: 1067\nOrders left: 1066\nOrders left: 1065\nOrders left: 1064\nOrders left: 1063\nOrders left: 1062\nOrders left: 1061\nOrders left: 1060\nOrders left: 1059\nOrders left: 1058\nOrders left: 1057\nOrders left: 1056\nOrders left: 1055\nOrders left: 1054\nOrders left: 1053\nOrders left: 1052\nOrders left: 1051\nOrders left: 1050\nOrders left: 1049\nOrders left: 1048\nOrders left: 1047\nOrders left: 1046\nOrders left: 1045\nOrders left: 1044\nOrders left: 1043\nOrders left: 1042\nOrders left: 1041\nOrders left: 1040\nOrders left: 1039\nOrders left: 1038\nOrders left: 1037\nOrders left: 1036\nOrders left: 1035\nOrders left: 1034\nOrders left: 1033\nOrders left: 1032\nOrders left: 1031\nOrders left: 1030\nOrders left: 1029\nOrders left: 1028\nOrders left: 1027\nOrders left: 1026\nOrders left: 1025\nOrders left: 1024\nOrders left: 1023\nOrders left: 1022\nOrders left: 1021\nOrders left: 1020\nOrders left: 1019\nOrders left: 1018\nOrders left: 1017\nOrders left: 1016\nOrders left: 1015\nOrders left: 1014\nOrders left: 1013\nOrders left: 1012\nOrders left: 1011\nOrders left: 1010\nOrders left: 1009\nOrders left: 1008\nOrders left: 1007\nOrders left: 1006\nOrders left: 1005\nOrders left: 1004\nOrders left: 1003\nOrders left: 1002\nOrders left: 1001\nOrders left: 1000\nOrders left: 999\nOrders left: 998\nOrders left: 997\nOrders left: 996\nOrders left: 995\nOrders left: 994\nOrders left: 993\nOrders left: 992\nOrders left: 991\nOrders left: 990\nOrders left: 989\nOrders left: 988\nOrders left: 987\nOrders left: 986\nOrders left: 985\nOrders left: 984\nOrders left: 983\nOrders left: 982\nOrders left: 981\nOrders left: 980\nOrders left: 979\nOrders left: 978\nOrders left: 977\nOrders left: 976\nOrders left: 975\nOrders left: 974\nOrders left: 973\nOrders left: 972\nOrders left: 971\nOrders left: 970\nOrders left: 969\nOrders left: 968\nOrders left: 967\nOrders left: 966\nOrders left: 965\nOrders left: 964\nOrders left: 963\nOrders left: 962\nOrders left: 961\nOrders left: 960\nOrders left: 959\nOrders left: 958\nOrders left: 957\nOrders left: 956\nOrders left: 955\nOrders left: 954\nOrders left: 953\nOrders left: 952\nOrders left: 951\nOrders left: 950\nOrders left: 949\nOrders left: 948\nOrders left: 947\nOrders left: 946\nOrders left: 945\nOrders left: 944\nOrders left: 943\nOrders left: 942\nOrders left: 941\nOrders left: 940\nOrders left: 939\nOrders left: 938\nOrders left: 937\nOrders left: 936\nOrders left: 935\nOrders left: 934\nOrders left: 933\nOrders left: 932\nOrders left: 931\nOrders left: 930\nOrders left: 929\nOrders left: 928\nOrders left: 927\nOrders left: 926\nOrders left: 925\nOrders left: 924\nOrders left: 923\nOrders left: 922\nOrders left: 921\nOrders left: 920\nOrders left: 919\nOrders left: 918\nOrders left: 917\nOrders left: 916\nOrders left: 915\nOrders left: 914\nOrders left: 913\nOrders left: 912\nOrders left: 911\nOrders left: 910\nOrders left: 909\nOrders left: 908\nOrders left: 907\nOrders left: 906\nOrders left: 905\nOrders left: 904\nOrders left: 903\nOrders left: 902\nOrders left: 901\nOrders left: 900\nOrders left: 899\nOrders left: 898\nOrders left: 897\nOrders left: 896\nOrders left: 895\nOrders left: 894\nOrders left: 893\nOrders left: 892\nOrders left: 891\nOrders left: 890\nOrders left: 889\nOrders left: 888\nOrders left: 887\nOrders left: 886\nOrders left: 885\nOrders left: 884\nOrders left: 883\nOrders left: 882\nOrders left: 881\nOrders left: 880\nOrders left: 879\nOrders left: 878\nOrders left: 877\nOrders left: 876\nOrders left: 875\nOrders left: 874\nOrders left: 873\nOrders left: 872\nOrders left: 871\nOrders left: 870\nOrders left: 869\nOrders left: 868\nOrders left: 867\nOrders left: 866\nOrders left: 865\nOrders left: 864\nOrders left: 863\nOrders left: 862\nOrders left: 861\nOrders left: 860\nOrders left: 859\nOrders left: 858\nOrders left: 857\nOrders left: 856\nOrders left: 855\nOrders left: 854\nOrders left: 853\nOrders left: 852\nOrders left: 851\nOrders left: 850\nOrders left: 849\nOrders left: 848\nOrders left: 847\nOrders left: 846\nOrders left: 845\nOrders left: 844\nOrders left: 843\nOrders left: 842\nOrders left: 841\nOrders left: 840\nOrders left: 839\nOrders left: 838\nOrders left: 837\nOrders left: 836\nOrders left: 835\nOrders left: 834\nOrders left: 833\nOrders left: 832\nOrders left: 831\nOrders left: 830\nOrders left: 829\nOrders left: 828\nOrders left: 827\nOrders left: 826\nOrders left: 825\nOrders left: 824\nOrders left: 823\nOrders left: 822\nOrders left: 821\nOrders left: 820\nOrders left: 819\nOrders left: 818\nOrders left: 817\nOrders left: 816\nOrders left: 815\nOrders left: 814\nOrders left: 813\nOrders left: 812\nOrders left: 811\nOrders left: 810\nOrders left: 809\nOrders left: 808\nOrders left: 807\nOrders left: 806\nOrders left: 805\nOrders left: 804\nOrders left: 803\nOrders left: 802\nOrders left: 801\nOrders left: 800\nOrders left: 799\nOrders left: 798\nOrders left: 797\nOrders left: 796\nOrders left: 795\nOrders left: 794\nOrders left: 793\nOrders left: 792\nOrders left: 791\nOrders left: 790\nOrders left: 789\nOrders left: 788\nOrders left: 787\nOrders left: 786\nOrders left: 785\nOrders left: 784\nOrders left: 783\nOrders left: 782\nOrders left: 781\nOrders left: 780\nOrders left: 779\nOrders left: 778\nOrders left: 777\nOrders left: 776\nOrders left: 775\nOrders left: 774\nOrders left: 773\nOrders left: 772\nOrders left: 771\nOrders left: 770\nOrders left: 769\nOrders left: 768\nOrders left: 767\nOrders left: 766\nOrders left: 765\nOrders left: 764\nOrders left: 763\nOrders left: 762\nOrders left: 761\nOrders left: 760\nOrders left: 759\nOrders left: 758\nOrders left: 757\nOrders left: 756\nOrders left: 755\nOrders left: 754\nOrders left: 753\nOrders left: 752\nOrders left: 751\nOrders left: 750\nOrders left: 749\nOrders left: 748\nOrders left: 747\nOrders left: 746\nOrders left: 745\nOrders left: 744\nOrders left: 743\nOrders left: 742\nOrders left: 741\nOrders left: 740\nOrders left: 739\nOrders left: 738\nOrders left: 737\nOrders left: 736\nOrders left: 735\nOrders left: 734\nOrders left: 733\nOrders left: 732\nOrders left: 731\nOrders left: 730\nOrders left: 729\nOrders left: 728\nOrders left: 727\nOrders left: 726\nOrders left: 725\nOrders left: 724\nOrders left: 723\nOrders left: 722\nOrders left: 721\nOrders left: 720\nOrders left: 719\nOrders left: 718\nOrders left: 717\nOrders left: 716\nOrders left: 715\nOrders left: 714\nOrders left: 713\nOrders left: 712\nOrders left: 711\nOrders left: 710\nOrders left: 709\nOrders left: 708\nOrders left: 707\nOrders left: 706\nOrders left: 705\nOrders left: 704\nOrders left: 703\nOrders left: 702\nOrders left: 701\nOrders left: 700\nOrders left: 699\nOrders left: 698\nOrders left: 697\nOrders left: 696\nOrders left: 695\nOrders left: 694\nOrders left: 693\nOrders left: 692\nOrders left: 691\nOrders left: 690\nOrders left: 689\nOrders left: 688\nOrders left: 687\nOrders left: 686\nOrders left: 685\nOrders left: 684\nOrders left: 683\nOrders left: 682\nOrders left: 681\nOrders left: 680\nOrders left: 679\nOrders left: 678\nOrders left: 677\nOrders left: 676\nOrders left: 675\nOrders left: 674\nOrders left: 673\nOrders left: 672\nOrders left: 671\nOrders left: 670\nOrders left: 669\nOrders left: 668\nOrders left: 667\nOrders left: 666\nOrders left: 665\nOrders left: 664\nOrders left: 663\nOrders left: 662\nOrders left: 661\nOrders left: 660\nOrders left: 659\nOrders left: 658\nOrders left: 657\n",
          "name": "stdout"
        },
        {
          "output_type": "stream",
          "text": "Orders left: 656\nOrders left: 655\nOrders left: 654\nOrders left: 653\nOrders left: 652\nOrders left: 651\nOrders left: 650\nOrders left: 649\nOrders left: 648\nOrders left: 647\nOrders left: 646\nOrders left: 645\nOrders left: 644\nOrders left: 643\nOrders left: 642\nOrders left: 641\nOrders left: 640\nOrders left: 639\nOrders left: 638\nOrders left: 637\nOrders left: 636\nOrders left: 635\nOrders left: 634\nOrders left: 633\nOrders left: 632\nOrders left: 631\nOrders left: 630\nOrders left: 629\nOrders left: 628\nOrders left: 627\nOrders left: 626\nOrders left: 625\nOrders left: 624\nOrders left: 623\nOrders left: 622\nOrders left: 621\nOrders left: 620\nOrders left: 619\nOrders left: 618\nOrders left: 617\nOrders left: 616\nOrders left: 615\nOrders left: 614\nOrders left: 613\nOrders left: 612\nOrders left: 611\nOrders left: 610\nOrders left: 609\nOrders left: 608\nOrders left: 607\nOrders left: 606\nOrders left: 605\nOrders left: 604\nOrders left: 603\nOrders left: 602\nOrders left: 601\nOrders left: 600\nOrders left: 599\nOrders left: 598\nOrders left: 597\nOrders left: 596\nOrders left: 595\nOrders left: 594\nOrders left: 593\nOrders left: 592\nOrders left: 591\nOrders left: 590\nOrders left: 589\nOrders left: 588\nOrders left: 587\nOrders left: 586\nOrders left: 585\nOrders left: 584\nOrders left: 583\nOrders left: 582\nOrders left: 581\nOrders left: 580\nOrders left: 579\nOrders left: 578\nOrders left: 577\nOrders left: 576\nOrders left: 575\nOrders left: 574\nOrders left: 573\nOrders left: 572\nOrders left: 571\nOrders left: 570\nOrders left: 569\nOrders left: 568\nOrders left: 567\nOrders left: 566\nOrders left: 565\nOrders left: 564\nOrders left: 563\nOrders left: 562\nOrders left: 561\nOrders left: 560\nOrders left: 559\nOrders left: 558\nOrders left: 557\nOrders left: 556\nOrders left: 555\nOrders left: 554\nOrders left: 553\nOrders left: 552\nOrders left: 551\nOrders left: 550\nOrders left: 549\nOrders left: 548\nOrders left: 547\nOrders left: 546\nOrders left: 545\nOrders left: 544\nOrders left: 543\nOrders left: 542\nOrders left: 541\nOrders left: 540\nOrders left: 539\nOrders left: 538\nOrders left: 537\nOrders left: 536\nOrders left: 535\nOrders left: 534\nOrders left: 533\nOrders left: 532\nOrders left: 531\nOrders left: 530\nOrders left: 529\nOrders left: 528\nOrders left: 527\nOrders left: 526\nOrders left: 525\nOrders left: 524\nOrders left: 523\nOrders left: 522\nOrders left: 521\nOrders left: 520\nOrders left: 519\nOrders left: 518\nOrders left: 517\nOrders left: 516\nOrders left: 515\nOrders left: 514\nOrders left: 513\nOrders left: 512\nOrders left: 511\nOrders left: 510\nOrders left: 509\nOrders left: 508\nOrders left: 507\nOrders left: 506\nOrders left: 505\nOrders left: 504\nOrders left: 503\nOrders left: 502\nOrders left: 501\nOrders left: 500\nOrders left: 499\nOrders left: 498\nOrders left: 497\nOrders left: 496\nOrders left: 495\nOrders left: 494\nOrders left: 493\nOrders left: 492\nOrders left: 491\nOrders left: 490\nOrders left: 489\nOrders left: 488\nOrders left: 487\nOrders left: 486\nOrders left: 485\nOrders left: 484\nOrders left: 483\nOrders left: 482\nOrders left: 481\nOrders left: 480\nOrders left: 479\nOrders left: 478\nOrders left: 477\nOrders left: 476\nOrders left: 475\nOrders left: 474\nOrders left: 473\nOrders left: 472\nOrders left: 471\nOrders left: 470\nOrders left: 469\nOrders left: 468\nOrders left: 467\nOrders left: 466\nOrders left: 465\nOrders left: 464\nOrders left: 463\nOrders left: 462\nOrders left: 461\nOrders left: 460\nOrders left: 459\nOrders left: 458\nOrders left: 457\nOrders left: 456\nOrders left: 455\nOrders left: 454\nOrders left: 453\nOrders left: 452\nOrders left: 451\nOrders left: 450\nOrders left: 449\nOrders left: 448\nOrders left: 447\nOrders left: 446\nOrders left: 445\nOrders left: 444\nOrders left: 443\nOrders left: 442\nOrders left: 441\nOrders left: 440\nOrders left: 439\nOrders left: 438\nOrders left: 437\nOrders left: 436\nOrders left: 435\nOrders left: 434\nOrders left: 433\nOrders left: 432\nOrders left: 431\nOrders left: 430\nOrders left: 429\nOrders left: 428\nOrders left: 427\nOrders left: 426\nOrders left: 425\nOrders left: 424\nOrders left: 423\nOrders left: 422\nOrders left: 421\nOrders left: 420\nOrders left: 419\nOrders left: 418\nOrders left: 417\nOrders left: 416\nOrders left: 415\nOrders left: 414\nOrders left: 413\nOrders left: 412\nOrders left: 411\nOrders left: 410\nOrders left: 409\nOrders left: 408\nOrders left: 407\nOrders left: 406\nOrders left: 405\nOrders left: 404\nOrders left: 403\nOrders left: 402\nOrders left: 401\nOrders left: 400\nOrders left: 399\nOrders left: 398\nOrders left: 397\nOrders left: 396\nOrders left: 395\nOrders left: 394\nOrders left: 393\nOrders left: 392\nOrders left: 391\nOrders left: 390\nOrders left: 389\nOrders left: 388\nOrders left: 387\nOrders left: 386\nOrders left: 385\nOrders left: 384\nOrders left: 383\nOrders left: 382\nOrders left: 381\nOrders left: 380\nOrders left: 379\nOrders left: 378\nOrders left: 377\nOrders left: 376\nOrders left: 375\nOrders left: 374\nOrders left: 373\nOrders left: 372\nOrders left: 371\nOrders left: 370\nOrders left: 369\nOrders left: 368\nOrders left: 367\nOrders left: 366\nOrders left: 365\nOrders left: 364\nOrders left: 363\nOrders left: 362\nOrders left: 361\nOrders left: 360\nOrders left: 359\nOrders left: 358\nOrders left: 357\nOrders left: 356\nOrders left: 355\nOrders left: 354\nOrders left: 353\nOrders left: 352\nOrders left: 351\nOrders left: 350\nOrders left: 349\nOrders left: 348\nOrders left: 347\nOrders left: 346\nOrders left: 345\nOrders left: 344\nOrders left: 343\nOrders left: 342\nOrders left: 341\nOrders left: 340\nOrders left: 339\nOrders left: 338\nOrders left: 337\nOrders left: 336\nOrders left: 335\nOrders left: 334\nOrders left: 333\nOrders left: 332\nOrders left: 331\nOrders left: 330\nOrders left: 329\nOrders left: 328\nOrders left: 327\nOrders left: 326\nOrders left: 325\nOrders left: 324\nOrders left: 323\nOrders left: 322\nOrders left: 321\nOrders left: 320\nOrders left: 319\nOrders left: 318\nOrders left: 317\nOrders left: 316\nOrders left: 315\nOrders left: 314\nOrders left: 313\nOrders left: 312\nOrders left: 311\nOrders left: 310\nOrders left: 309\nOrders left: 308\nOrders left: 307\nOrders left: 306\nOrders left: 305\nOrders left: 304\nOrders left: 303\nOrders left: 302\nOrders left: 301\nOrders left: 300\nOrders left: 299\nOrders left: 298\nOrders left: 297\nOrders left: 296\nOrders left: 295\nOrders left: 294\nOrders left: 293\nOrders left: 292\nOrders left: 291\nOrders left: 290\nOrders left: 289\nOrders left: 288\nOrders left: 287\nOrders left: 286\nOrders left: 285\nOrders left: 284\nOrders left: 283\nOrders left: 282\nOrders left: 281\nOrders left: 280\nOrders left: 279\nOrders left: 278\nOrders left: 277\nOrders left: 276\nOrders left: 275\nOrders left: 274\nOrders left: 273\nOrders left: 272\nOrders left: 271\nOrders left: 270\nOrders left: 269\nOrders left: 268\nOrders left: 267\nOrders left: 266\nOrders left: 265\nOrders left: 264\nOrders left: 263\nOrders left: 262\nOrders left: 261\nOrders left: 260\nOrders left: 259\nOrders left: 258\nOrders left: 257\nOrders left: 256\nOrders left: 255\nOrders left: 254\nOrders left: 253\nOrders left: 252\nOrders left: 251\nOrders left: 250\nOrders left: 249\nOrders left: 248\nOrders left: 247\nOrders left: 246\nOrders left: 245\nOrders left: 244\nOrders left: 243\nOrders left: 242\nOrders left: 241\nOrders left: 240\nOrders left: 239\nOrders left: 238\nOrders left: 237\nOrders left: 236\nOrders left: 235\nOrders left: 234\nOrders left: 233\nOrders left: 232\nOrders left: 231\nOrders left: 230\nOrders left: 229\nOrders left: 228\nOrders left: 227\nOrders left: 226\nOrders left: 225\nOrders left: 224\nOrders left: 223\nOrders left: 222\nOrders left: 221\nOrders left: 220\nOrders left: 219\nOrders left: 218\nOrders left: 217\nOrders left: 216\nOrders left: 215\nOrders left: 214\nOrders left: 213\nOrders left: 212\nOrders left: 211\nOrders left: 210\nOrders left: 209\nOrders left: 208\nOrders left: 207\nOrders left: 206\nOrders left: 205\nOrders left: 204\nOrders left: 203\nOrders left: 202\nOrders left: 201\nOrders left: 200\nOrders left: 199\nOrders left: 198\nOrders left: 197\nOrders left: 196\nOrders left: 195\nOrders left: 194\nOrders left: 193\nOrders left: 192\nOrders left: 191\nOrders left: 190\nOrders left: 189\nOrders left: 188\nOrders left: 187\nOrders left: 186\nOrders left: 185\nOrders left: 184\nOrders left: 183\nOrders left: 182\nOrders left: 181\nOrders left: 180\nOrders left: 179\nOrders left: 178\nOrders left: 177\nOrders left: 176\nOrders left: 175\n",
          "name": "stdout"
        },
        {
          "output_type": "stream",
          "text": "Orders left: 174\nOrders left: 173\nOrders left: 172\nOrders left: 171\nOrders left: 170\nOrders left: 169\nOrders left: 168\nOrders left: 167\nOrders left: 166\nOrders left: 165\nOrders left: 164\nOrders left: 163\nOrders left: 162\nOrders left: 161\nOrders left: 160\nOrders left: 159\nOrders left: 158\nOrders left: 157\nOrders left: 156\nOrders left: 155\nOrders left: 154\nOrders left: 153\nOrders left: 152\nOrders left: 151\nOrders left: 150\nOrders left: 149\nOrders left: 148\nOrders left: 147\nOrders left: 146\nOrders left: 145\nOrders left: 144\nOrders left: 143\nOrders left: 142\nOrders left: 141\nOrders left: 140\nOrders left: 139\nOrders left: 138\nOrders left: 137\nOrders left: 136\nOrders left: 135\nOrders left: 134\nOrders left: 133\nOrders left: 132\nOrders left: 131\nOrders left: 130\nOrders left: 129\nOrders left: 128\nOrders left: 127\nOrders left: 126\nOrders left: 125\nOrders left: 124\nOrders left: 123\nOrders left: 122\nOrders left: 121\nOrders left: 120\nOrders left: 119\nOrders left: 118\nOrders left: 117\nOrders left: 116\nOrders left: 115\nOrders left: 114\nOrders left: 113\nOrders left: 112\nOrders left: 111\nOrders left: 110\nOrders left: 109\nOrders left: 108\nOrders left: 107\nOrders left: 106\nOrders left: 105\nOrders left: 104\nOrders left: 103\nOrders left: 102\nOrders left: 101\nOrders left: 100\nOrders left: 99\nOrders left: 98\nOrders left: 97\nOrders left: 96\nOrders left: 95\nOrders left: 94\nOrders left: 93\nOrders left: 92\nOrders left: 91\nOrders left: 90\nOrders left: 89\nOrders left: 88\nOrders left: 87\nOrders left: 86\nOrders left: 85\nOrders left: 84\nOrders left: 83\nOrders left: 82\nOrders left: 81\nOrders left: 80\nOrders left: 79\nOrders left: 78\nOrders left: 77\nOrders left: 76\nOrders left: 75\nOrders left: 74\nOrders left: 73\nOrders left: 72\nOrders left: 71\nOrders left: 70\nOrders left: 69\nOrders left: 68\nOrders left: 67\nOrders left: 66\nOrders left: 65\nOrders left: 64\nOrders left: 63\nOrders left: 62\nOrders left: 61\nOrders left: 60\nOrders left: 59\nOrders left: 58\nOrders left: 57\nOrders left: 56\nOrders left: 55\nOrders left: 54\nOrders left: 53\nOrders left: 52\nOrders left: 51\nOrders left: 50\nOrders left: 49\nOrders left: 48\nOrders left: 47\nOrders left: 46\nOrders left: 45\nOrders left: 44\nOrders left: 43\nOrders left: 42\nOrders left: 41\nOrders left: 40\nOrders left: 39\nOrders left: 38\nOrders left: 37\nOrders left: 36\nOrders left: 35\nOrders left: 34\nOrders left: 33\nOrders left: 32\nOrders left: 31\nOrders left: 30\nOrders left: 29\nOrders left: 28\nOrders left: 27\nOrders left: 26\nOrders left: 25\nOrders left: 24\nOrders left: 23\nOrders left: 22\nOrders left: 21\nOrders left: 20\nOrders left: 19\nOrders left: 18\nOrders left: 17\nOrders left: 16\nOrders left: 15\nOrders left: 14\nOrders left: 13\nOrders left: 12\nOrders left: 11\nOrders left: 10\nOrders left: 9\nOrders left: 8\nOrders left: 7\nOrders left: 6\nOrders left: 5\nOrders left: 4\nOrders left: 3\nOrders left: 2\nOrders left: 1\n",
          "name": "stdout"
        }
      ]
    },
    {
      "metadata": {
        "trusted": true,
        "_uuid": "9f50c3c703ec1570e4408f7b08dc5563afba1b64"
      },
      "cell_type": "code",
      "source": "print('Mean accuracy across all orders:', np.mean(accuracy))",
      "execution_count": 29,
      "outputs": [
        {
          "output_type": "stream",
          "text": "Mean accuracy across all orders: 0.09650264510601003\n",
          "name": "stdout"
        }
      ]
    }
  ],
  "metadata": {
    "kernelspec": {
      "display_name": "Python 3",
      "language": "python",
      "name": "python3"
    },
    "language_info": {
      "name": "python",
      "version": "3.6.6",
      "mimetype": "text/x-python",
      "codemirror_mode": {
        "name": "ipython",
        "version": 3
      },
      "pygments_lexer": "ipython3",
      "nbconvert_exporter": "python",
      "file_extension": ".py"
    }
  },
  "nbformat": 4,
  "nbformat_minor": 1
}